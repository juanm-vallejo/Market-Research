{
 "cells": [
  {
   "cell_type": "code",
   "execution_count": 1,
   "metadata": {},
   "outputs": [],
   "source": [
    "# The following is a Exploratory analysis of a database "
   ]
  },
  {
   "cell_type": "code",
   "execution_count": 2,
   "metadata": {},
   "outputs": [],
   "source": [
    "#Packages to use:\n",
    "import pandas as pd\n",
    "import numpy as np\n",
    "import matplotlib.pyplot as plt\n",
    "from scipy.stats import skew\n",
    "import seaborn as sns"
   ]
  },
  {
   "cell_type": "code",
   "execution_count": 3,
   "metadata": {},
   "outputs": [],
   "source": [
    "df = pd.read_csv(r'df.csv')\n",
    "dummyCusine = pd.read_csv(r'dummyCusine.csv')"
   ]
  },
  {
   "cell_type": "code",
   "execution_count": 4,
   "metadata": {},
   "outputs": [
    {
     "name": "stdout",
     "output_type": "stream",
     "text": [
      "<class 'pandas.core.frame.DataFrame'>\n",
      "RangeIndex: 1489 entries, 0 to 1488\n",
      "Data columns (total 35 columns):\n",
      " #   Column         Non-Null Count  Dtype  \n",
      "---  ------         --------------  -----  \n",
      " 0   Unnamed: 0     1489 non-null   int64  \n",
      " 1   CompanyName    1489 non-null   object \n",
      " 2   Cusine_x       1489 non-null   object \n",
      " 3   Importance_x   1489 non-null   int64  \n",
      " 4   PhoneNumber_x  1489 non-null   object \n",
      " 5   Website_x      1489 non-null   object \n",
      " 6   NumReviews_x   1489 non-null   float64\n",
      " 7   Overall_x      1489 non-null   float64\n",
      " 8   PriceRange_x   1489 non-null   object \n",
      " 9   Prices_x       1489 non-null   object \n",
      " 10  Puntuation_x   1489 non-null   object \n",
      " 11  Cap            1489 non-null   float64\n",
      " 12  Excellent_x    1489 non-null   int64  \n",
      " 13  VeryGood_x     1489 non-null   int64  \n",
      " 14  Average_x      1489 non-null   int64  \n",
      " 15  Poor_x         1489 non-null   int64  \n",
      " 16  Terrible_x     1489 non-null   int64  \n",
      " 17  Address1       1489 non-null   object \n",
      " 18  Cusine_y       1489 non-null   object \n",
      " 19  Importance_y   1489 non-null   int64  \n",
      " 20  PhoneNumber_y  1489 non-null   object \n",
      " 21  Website_y      1489 non-null   object \n",
      " 22  NumReviews_y   1489 non-null   float64\n",
      " 23  Overall_y      1489 non-null   float64\n",
      " 24  PriceRange_y   1489 non-null   object \n",
      " 25  Prices_y       1489 non-null   object \n",
      " 26  Puntuation_y   1489 non-null   object \n",
      " 27  Excellent_y    1489 non-null   int64  \n",
      " 28  VeryGood_y     1489 non-null   int64  \n",
      " 29  Average_y      1489 non-null   int64  \n",
      " 30  Poor_y         1489 non-null   int64  \n",
      " 31  Terrible_y     1489 non-null   int64  \n",
      " 32  TIPOLOGIA      1489 non-null   object \n",
      " 33  Quar           1489 non-null   object \n",
      " 34  Mun            1489 non-null   float64\n",
      "dtypes: float64(6), int64(13), object(16)\n",
      "memory usage: 407.3+ KB\n"
     ]
    }
   ],
   "source": [
    "df.info()"
   ]
  },
  {
   "cell_type": "code",
   "execution_count": 5,
   "metadata": {},
   "outputs": [],
   "source": [
    "df = df.drop(columns='Unnamed: 0')\n",
    "for i in df.columns:\n",
    "    if '_y' in i:\n",
    "        df = df.drop(columns = i)\n",
    "    if '_x' in i:\n",
    "        new = i.replace('_x', '')\n",
    "        df = df.rename(columns={i:new})"
   ]
  },
  {
   "cell_type": "code",
   "execution_count": 6,
   "metadata": {},
   "outputs": [
    {
     "name": "stdout",
     "output_type": "stream",
     "text": [
      "<class 'pandas.core.frame.DataFrame'>\n",
      "RangeIndex: 1489 entries, 0 to 1488\n",
      "Data columns (total 20 columns):\n",
      " #   Column       Non-Null Count  Dtype  \n",
      "---  ------       --------------  -----  \n",
      " 0   CompanyName  1489 non-null   object \n",
      " 1   Cusine       1489 non-null   object \n",
      " 2   Importance   1489 non-null   int64  \n",
      " 3   PhoneNumber  1489 non-null   object \n",
      " 4   Website      1489 non-null   object \n",
      " 5   NumReviews   1489 non-null   float64\n",
      " 6   Overall      1489 non-null   float64\n",
      " 7   PriceRange   1489 non-null   object \n",
      " 8   Prices       1489 non-null   object \n",
      " 9   Puntuation   1489 non-null   object \n",
      " 10  Cap          1489 non-null   float64\n",
      " 11  Excellent    1489 non-null   int64  \n",
      " 12  VeryGood     1489 non-null   int64  \n",
      " 13  Average      1489 non-null   int64  \n",
      " 14  Poor         1489 non-null   int64  \n",
      " 15  Terrible     1489 non-null   int64  \n",
      " 16  Address1     1489 non-null   object \n",
      " 17  TIPOLOGIA    1489 non-null   object \n",
      " 18  Quar         1489 non-null   object \n",
      " 19  Mun          1489 non-null   float64\n",
      "dtypes: float64(4), int64(6), object(10)\n",
      "memory usage: 232.8+ KB\n"
     ]
    }
   ],
   "source": [
    "df.info()"
   ]
  },
  {
   "cell_type": "code",
   "execution_count": 7,
   "metadata": {},
   "outputs": [],
   "source": [
    "df['row_sum'] = df[['Excellent','VeryGood', 'Average', 'Poor', 'Terrible']].sum(axis=1)"
   ]
  },
  {
   "cell_type": "code",
   "execution_count": 8,
   "metadata": {},
   "outputs": [],
   "source": [
    "df['Ex%'] = df['Excellent']/df['row_sum']\n",
    "df['Vg%'] = df['VeryGood']/df['row_sum']\n",
    "df['Avg%'] = df['Average']/df['row_sum']\n",
    "df['Pr%'] = df['Poor']/df['row_sum']\n",
    "df['Tr%'] = df['Terrible']/df['row_sum']"
   ]
  },
  {
   "cell_type": "code",
   "execution_count": 9,
   "metadata": {},
   "outputs": [],
   "source": [
    "df = df.drop(columns='row_sum')"
   ]
  },
  {
   "cell_type": "code",
   "execution_count": 10,
   "metadata": {},
   "outputs": [
    {
     "data": {
      "text/plain": [
       "array([[<AxesSubplot:title={'center':'Overall'}>,\n",
       "        <AxesSubplot:title={'center':'NumReviews'}>,\n",
       "        <AxesSubplot:title={'center':'Importance'}>,\n",
       "        <AxesSubplot:title={'center':'Excellent'}>],\n",
       "       [<AxesSubplot:title={'center':'VeryGood'}>,\n",
       "        <AxesSubplot:title={'center':'Average'}>,\n",
       "        <AxesSubplot:title={'center':'Poor'}>,\n",
       "        <AxesSubplot:title={'center':'Terrible'}>],\n",
       "       [<AxesSubplot:title={'center':'Ex%'}>,\n",
       "        <AxesSubplot:title={'center':'Vg%'}>,\n",
       "        <AxesSubplot:title={'center':'Avg%'}>,\n",
       "        <AxesSubplot:title={'center':'Pr%'}>],\n",
       "       [<AxesSubplot:title={'center':'Tr%'}>, <AxesSubplot:>,\n",
       "        <AxesSubplot:>, <AxesSubplot:>]], dtype=object)"
      ]
     },
     "execution_count": 10,
     "metadata": {},
     "output_type": "execute_result"
    },
    {
     "data": {
      "image/png": "[encoded data removed]",
      "text/plain": [
       "<Figure size 864x864 with 16 Axes>"
      ]
     },
     "metadata": {
      "needs_background": "light"
     },
     "output_type": "display_data"
    }
   ],
   "source": [
    "df.hist(['Overall', 'NumReviews', 'Importance', \n",
    "'Excellent','VeryGood', 'Average', \n",
    "'Poor', 'Terrible', 'Ex%',\n",
    "'Vg%', 'Avg%', 'Pr%',\n",
    "'Tr%'], figsize=(12,12))"
   ]
  },
  {
   "cell_type": "markdown",
   "metadata": {},
   "source": [
    "#### At a first sight we cannot see any particular distribution on the data, maybe an exponential distribution on some datasets, but we are not sure. Therefore, we will use a test that checks if there is any disribution approved. \n",
    "#### It is interesting to compare the absolute and relative distribution of the cualitative punctuation of a restaurant. In relative terms, we can see that some restaurants get better \"Excellent\" than others, we see that some have a 100% of \"Excellents\" and others with an almost 0% of \"Excellents\".\n",
    "#### So the next section we will review the probabilities to have a good exprience on the Excellent restaurants, this is just for apetite of knowledge since there are not direct use of this info. "
   ]
  },
  {
   "cell_type": "markdown",
   "metadata": {},
   "source": [
    "#### Using a Laplace Succession, we will add one more \"bad experience\" or \"Excellent\", and one more \"good experience\" or \"Poor\". Then we will check the probability of having a meal on the restaurant with the best experience. "
   ]
  },
  {
   "cell_type": "code",
   "execution_count": 11,
   "metadata": {},
   "outputs": [
    {
     "data": {
      "text/html": [
       "<div>\n",
       "<style scoped>\n",
       "    .dataframe tbody tr th:only-of-type {\n",
       "        vertical-align: middle;\n",
       "    }\n",
       "\n",
       "    .dataframe tbody tr th {\n",
       "        vertical-align: top;\n",
       "    }\n",
       "\n",
       "    .dataframe thead th {\n",
       "        text-align: right;\n",
       "    }\n",
       "</style>\n",
       "<table border=\"1\" class=\"dataframe\">\n",
       "  <thead>\n",
       "    <tr style=\"text-align: right;\">\n",
       "      <th></th>\n",
       "      <th>CompanyName</th>\n",
       "      <th>Ex%</th>\n",
       "    </tr>\n",
       "  </thead>\n",
       "  <tbody>\n",
       "    <tr>\n",
       "      <th>0</th>\n",
       "      <td>Cariño Nikkei</td>\n",
       "      <td>1.000000</td>\n",
       "    </tr>\n",
       "    <tr>\n",
       "      <th>1</th>\n",
       "      <td>Urubamba Nikkei - Fusion - Bar</td>\n",
       "      <td>0.777778</td>\n",
       "    </tr>\n",
       "    <tr>\n",
       "      <th>2</th>\n",
       "      <td>Fiorenzano 1897</td>\n",
       "      <td>0.000000</td>\n",
       "    </tr>\n",
       "    <tr>\n",
       "      <th>3</th>\n",
       "      <td>Antica Latteria Cucina Tipica Napoletana</td>\n",
       "      <td>0.745455</td>\n",
       "    </tr>\n",
       "    <tr>\n",
       "      <th>4</th>\n",
       "      <td>Gusto&amp;Gusto</td>\n",
       "      <td>0.440678</td>\n",
       "    </tr>\n",
       "    <tr>\n",
       "      <th>...</th>\n",
       "      <td>...</td>\n",
       "      <td>...</td>\n",
       "    </tr>\n",
       "    <tr>\n",
       "      <th>1484</th>\n",
       "      <td>Ristorante Pizzeria La Grotta di Francesco Ven...</td>\n",
       "      <td>0.875000</td>\n",
       "    </tr>\n",
       "    <tr>\n",
       "      <th>1485</th>\n",
       "      <td>Pizzeria Pane Amore E Fantasia</td>\n",
       "      <td>0.750000</td>\n",
       "    </tr>\n",
       "    <tr>\n",
       "      <th>1486</th>\n",
       "      <td>Pizzeria Don Raffaele</td>\n",
       "      <td>0.438356</td>\n",
       "    </tr>\n",
       "    <tr>\n",
       "      <th>1487</th>\n",
       "      <td>Rosso Peperone</td>\n",
       "      <td>0.521739</td>\n",
       "    </tr>\n",
       "    <tr>\n",
       "      <th>1488</th>\n",
       "      <td>Il Frescale Ristopub Pizzeria</td>\n",
       "      <td>0.454545</td>\n",
       "    </tr>\n",
       "  </tbody>\n",
       "</table>\n",
       "<p>1489 rows × 2 columns</p>\n",
       "</div>"
      ],
      "text/plain": [
       "                                            CompanyName       Ex%\n",
       "0                                         Cariño Nikkei  1.000000\n",
       "1                        Urubamba Nikkei - Fusion - Bar  0.777778\n",
       "2                                       Fiorenzano 1897  0.000000\n",
       "3              Antica Latteria Cucina Tipica Napoletana  0.745455\n",
       "4                                           Gusto&Gusto  0.440678\n",
       "...                                                 ...       ...\n",
       "1484  Ristorante Pizzeria La Grotta di Francesco Ven...  0.875000\n",
       "1485                     Pizzeria Pane Amore E Fantasia  0.750000\n",
       "1486                              Pizzeria Don Raffaele  0.438356\n",
       "1487                                     Rosso Peperone  0.521739\n",
       "1488                      Il Frescale Ristopub Pizzeria  0.454545\n",
       "\n",
       "[1489 rows x 2 columns]"
      ]
     },
     "execution_count": 11,
     "metadata": {},
     "output_type": "execute_result"
    }
   ],
   "source": [
    "df[['CompanyName', 'Ex%']]"
   ]
  },
  {
   "cell_type": "code",
   "execution_count": 12,
   "metadata": {},
   "outputs": [
    {
     "data": {
      "text/html": [
       "<div>\n",
       "<style scoped>\n",
       "    .dataframe tbody tr th:only-of-type {\n",
       "        vertical-align: middle;\n",
       "    }\n",
       "\n",
       "    .dataframe tbody tr th {\n",
       "        vertical-align: top;\n",
       "    }\n",
       "\n",
       "    .dataframe thead th {\n",
       "        text-align: right;\n",
       "    }\n",
       "</style>\n",
       "<table border=\"1\" class=\"dataframe\">\n",
       "  <thead>\n",
       "    <tr style=\"text-align: right;\">\n",
       "      <th></th>\n",
       "      <th>CompanyName</th>\n",
       "      <th>Ex%</th>\n",
       "    </tr>\n",
       "  </thead>\n",
       "  <tbody>\n",
       "    <tr>\n",
       "      <th>0</th>\n",
       "      <td>Cariño Nikkei</td>\n",
       "      <td>1.0</td>\n",
       "    </tr>\n",
       "    <tr>\n",
       "      <th>425</th>\n",
       "      <td>Pizzeria da Mario</td>\n",
       "      <td>1.0</td>\n",
       "    </tr>\n",
       "    <tr>\n",
       "      <th>1080</th>\n",
       "      <td>Stà Ben!</td>\n",
       "      <td>1.0</td>\n",
       "    </tr>\n",
       "    <tr>\n",
       "      <th>418</th>\n",
       "      <td>Braceria Pastore</td>\n",
       "      <td>1.0</td>\n",
       "    </tr>\n",
       "    <tr>\n",
       "      <th>1088</th>\n",
       "      <td>Pizza Lovers addu Maurizio</td>\n",
       "      <td>1.0</td>\n",
       "    </tr>\n",
       "    <tr>\n",
       "      <th>...</th>\n",
       "      <td>...</td>\n",
       "      <td>...</td>\n",
       "    </tr>\n",
       "    <tr>\n",
       "      <th>675</th>\n",
       "      <td>Jolly Roger Pub</td>\n",
       "      <td>0.0</td>\n",
       "    </tr>\n",
       "    <tr>\n",
       "      <th>964</th>\n",
       "      <td>Il Buongustaio Take Away</td>\n",
       "      <td>0.0</td>\n",
       "    </tr>\n",
       "    <tr>\n",
       "      <th>681</th>\n",
       "      <td>Gallo's Pub 1986</td>\n",
       "      <td>0.0</td>\n",
       "    </tr>\n",
       "    <tr>\n",
       "      <th>966</th>\n",
       "      <td>Yummy Sushi Restaurant</td>\n",
       "      <td>0.0</td>\n",
       "    </tr>\n",
       "    <tr>\n",
       "      <th>1378</th>\n",
       "      <td>Il Poggio</td>\n",
       "      <td>0.0</td>\n",
       "    </tr>\n",
       "  </tbody>\n",
       "</table>\n",
       "<p>1489 rows × 2 columns</p>\n",
       "</div>"
      ],
      "text/plain": [
       "                     CompanyName  Ex%\n",
       "0                  Cariño Nikkei  1.0\n",
       "425            Pizzeria da Mario  1.0\n",
       "1080                    Stà Ben!  1.0\n",
       "418             Braceria Pastore  1.0\n",
       "1088  Pizza Lovers addu Maurizio  1.0\n",
       "...                          ...  ...\n",
       "675              Jolly Roger Pub  0.0\n",
       "964     Il Buongustaio Take Away  0.0\n",
       "681             Gallo's Pub 1986  0.0\n",
       "966       Yummy Sushi Restaurant  0.0\n",
       "1378                   Il Poggio  0.0\n",
       "\n",
       "[1489 rows x 2 columns]"
      ]
     },
     "execution_count": 12,
     "metadata": {},
     "output_type": "execute_result"
    }
   ],
   "source": [
    "df[['CompanyName', 'Ex%']].sort_values(by=['Ex%'], ascending=False)"
   ]
  },
  {
   "cell_type": "code",
   "execution_count": 13,
   "metadata": {},
   "outputs": [],
   "source": [
    "df_laplace = df"
   ]
  },
  {
   "cell_type": "code",
   "execution_count": 14,
   "metadata": {},
   "outputs": [],
   "source": [
    "df_laplace['Excellent'] = df['Excellent'] +1\n",
    "df_laplace['Terrible'] = df['Terrible'] +1"
   ]
  },
  {
   "cell_type": "code",
   "execution_count": 15,
   "metadata": {},
   "outputs": [],
   "source": [
    "df_laplace['row_sum'] = df_laplace[['Excellent','VeryGood', 'Average', 'Poor', 'Terrible']].sum(axis=1)"
   ]
  },
  {
   "cell_type": "code",
   "execution_count": 16,
   "metadata": {},
   "outputs": [],
   "source": [
    "df_laplace['Ex%'] = df_laplace['Excellent']/df_laplace['row_sum']\n",
    "df_laplace['Vg%'] = df_laplace['VeryGood']/df_laplace['row_sum']\n",
    "df_laplace['Avg%'] = df_laplace['Average']/df_laplace['row_sum']\n",
    "df_laplace['Pr%'] = df_laplace['Poor']/df_laplace['row_sum']\n",
    "df_laplace['Tr%'] = df_laplace['Terrible']/df_laplace['row_sum']"
   ]
  },
  {
   "cell_type": "code",
   "execution_count": 17,
   "metadata": {},
   "outputs": [
    {
     "data": {
      "text/html": [
       "<div>\n",
       "<style scoped>\n",
       "    .dataframe tbody tr th:only-of-type {\n",
       "        vertical-align: middle;\n",
       "    }\n",
       "\n",
       "    .dataframe tbody tr th {\n",
       "        vertical-align: top;\n",
       "    }\n",
       "\n",
       "    .dataframe thead th {\n",
       "        text-align: right;\n",
       "    }\n",
       "</style>\n",
       "<table border=\"1\" class=\"dataframe\">\n",
       "  <thead>\n",
       "    <tr style=\"text-align: right;\">\n",
       "      <th></th>\n",
       "      <th>CompanyName</th>\n",
       "      <th>Importance</th>\n",
       "      <th>Ex%</th>\n",
       "    </tr>\n",
       "  </thead>\n",
       "  <tbody>\n",
       "    <tr>\n",
       "      <th>416</th>\n",
       "      <td>A tutta Birra</td>\n",
       "      <td>319</td>\n",
       "      <td>0.985714</td>\n",
       "    </tr>\n",
       "    <tr>\n",
       "      <th>1088</th>\n",
       "      <td>Pizza Lovers addu Maurizio</td>\n",
       "      <td>733</td>\n",
       "      <td>0.973684</td>\n",
       "    </tr>\n",
       "    <tr>\n",
       "      <th>847</th>\n",
       "      <td>Da Maria</td>\n",
       "      <td>5</td>\n",
       "      <td>0.950000</td>\n",
       "    </tr>\n",
       "    <tr>\n",
       "      <th>1055</th>\n",
       "      <td>OAK Wine and Craft Beer Bar</td>\n",
       "      <td>140</td>\n",
       "      <td>0.948718</td>\n",
       "    </tr>\n",
       "    <tr>\n",
       "      <th>666</th>\n",
       "      <td>Ciabacrò</td>\n",
       "      <td>995</td>\n",
       "      <td>0.941176</td>\n",
       "    </tr>\n",
       "    <tr>\n",
       "      <th>...</th>\n",
       "      <td>...</td>\n",
       "      <td>...</td>\n",
       "      <td>...</td>\n",
       "    </tr>\n",
       "    <tr>\n",
       "      <th>897</th>\n",
       "      <td>McDonald's</td>\n",
       "      <td>2669</td>\n",
       "      <td>0.090909</td>\n",
       "    </tr>\n",
       "    <tr>\n",
       "      <th>841</th>\n",
       "      <td>Roby Cars Srl</td>\n",
       "      <td>2665</td>\n",
       "      <td>0.071429</td>\n",
       "    </tr>\n",
       "    <tr>\n",
       "      <th>39</th>\n",
       "      <td>Pizzeria Salvatore Vesi STG</td>\n",
       "      <td>2521</td>\n",
       "      <td>0.066667</td>\n",
       "    </tr>\n",
       "    <tr>\n",
       "      <th>604</th>\n",
       "      <td>Ristorante la Torre</td>\n",
       "      <td>2615</td>\n",
       "      <td>0.065217</td>\n",
       "    </tr>\n",
       "    <tr>\n",
       "      <th>697</th>\n",
       "      <td>Pallino's</td>\n",
       "      <td>2704</td>\n",
       "      <td>0.060976</td>\n",
       "    </tr>\n",
       "  </tbody>\n",
       "</table>\n",
       "<p>1489 rows × 3 columns</p>\n",
       "</div>"
      ],
      "text/plain": [
       "                      CompanyName  Importance       Ex%\n",
       "416                 A tutta Birra         319  0.985714\n",
       "1088   Pizza Lovers addu Maurizio         733  0.973684\n",
       "847                      Da Maria           5  0.950000\n",
       "1055  OAK Wine and Craft Beer Bar         140  0.948718\n",
       "666                      Ciabacrò         995  0.941176\n",
       "...                           ...         ...       ...\n",
       "897                    McDonald's        2669  0.090909\n",
       "841                 Roby Cars Srl        2665  0.071429\n",
       "39    Pizzeria Salvatore Vesi STG        2521  0.066667\n",
       "604           Ristorante la Torre        2615  0.065217\n",
       "697                     Pallino's        2704  0.060976\n",
       "\n",
       "[1489 rows x 3 columns]"
      ]
     },
     "execution_count": 17,
     "metadata": {},
     "output_type": "execute_result"
    }
   ],
   "source": [
    "df_laplace[['CompanyName','Importance', 'Ex%']].sort_values(by=['Ex%'], ascending=False)"
   ]
  },
  {
   "cell_type": "markdown",
   "metadata": {},
   "source": [
    "#### Just after this small check, we can see that the distribution gave us a good hint. Many restaurants had not enoght punctuations to be quantified, this quick test brought some light to the real possibility of having a good meal on any specific place. We will run a Correlation and later check it with the general correlations"
   ]
  },
  {
   "cell_type": "code",
   "execution_count": 18,
   "metadata": {},
   "outputs": [],
   "source": [
    "df_laplace['NormImp'] = (df.Importance - np.min(df.Importance)) / (np.max(df.Importance) - np.min(df.Importance))"
   ]
  },
  {
   "cell_type": "code",
   "execution_count": 19,
   "metadata": {},
   "outputs": [
    {
     "data": {
      "text/html": [
       "<div>\n",
       "<style scoped>\n",
       "    .dataframe tbody tr th:only-of-type {\n",
       "        vertical-align: middle;\n",
       "    }\n",
       "\n",
       "    .dataframe tbody tr th {\n",
       "        vertical-align: top;\n",
       "    }\n",
       "\n",
       "    .dataframe thead th {\n",
       "        text-align: right;\n",
       "    }\n",
       "</style>\n",
       "<table border=\"1\" class=\"dataframe\">\n",
       "  <thead>\n",
       "    <tr style=\"text-align: right;\">\n",
       "      <th></th>\n",
       "      <th>NormImp</th>\n",
       "      <th>Ex%</th>\n",
       "      <th>Vg%</th>\n",
       "      <th>Avg%</th>\n",
       "      <th>Pr%</th>\n",
       "      <th>Tr%</th>\n",
       "    </tr>\n",
       "  </thead>\n",
       "  <tbody>\n",
       "    <tr>\n",
       "      <th>NormImp</th>\n",
       "      <td>1.000000</td>\n",
       "      <td>-0.289532</td>\n",
       "      <td>0.000838</td>\n",
       "      <td>0.022147</td>\n",
       "      <td>0.002599</td>\n",
       "      <td>0.365215</td>\n",
       "    </tr>\n",
       "    <tr>\n",
       "      <th>Ex%</th>\n",
       "      <td>-0.289532</td>\n",
       "      <td>1.000000</td>\n",
       "      <td>-0.445749</td>\n",
       "      <td>-0.366706</td>\n",
       "      <td>-0.287970</td>\n",
       "      <td>-0.272792</td>\n",
       "    </tr>\n",
       "    <tr>\n",
       "      <th>Vg%</th>\n",
       "      <td>0.000838</td>\n",
       "      <td>-0.445749</td>\n",
       "      <td>1.000000</td>\n",
       "      <td>0.296139</td>\n",
       "      <td>0.224943</td>\n",
       "      <td>-0.212776</td>\n",
       "    </tr>\n",
       "    <tr>\n",
       "      <th>Avg%</th>\n",
       "      <td>0.022147</td>\n",
       "      <td>-0.366706</td>\n",
       "      <td>0.296139</td>\n",
       "      <td>1.000000</td>\n",
       "      <td>0.357021</td>\n",
       "      <td>-0.181997</td>\n",
       "    </tr>\n",
       "    <tr>\n",
       "      <th>Pr%</th>\n",
       "      <td>0.002599</td>\n",
       "      <td>-0.287970</td>\n",
       "      <td>0.224943</td>\n",
       "      <td>0.357021</td>\n",
       "      <td>1.000000</td>\n",
       "      <td>-0.174055</td>\n",
       "    </tr>\n",
       "    <tr>\n",
       "      <th>Tr%</th>\n",
       "      <td>0.365215</td>\n",
       "      <td>-0.272792</td>\n",
       "      <td>-0.212776</td>\n",
       "      <td>-0.181997</td>\n",
       "      <td>-0.174055</td>\n",
       "      <td>1.000000</td>\n",
       "    </tr>\n",
       "  </tbody>\n",
       "</table>\n",
       "</div>"
      ],
      "text/plain": [
       "          NormImp       Ex%       Vg%      Avg%       Pr%       Tr%\n",
       "NormImp  1.000000 -0.289532  0.000838  0.022147  0.002599  0.365215\n",
       "Ex%     -0.289532  1.000000 -0.445749 -0.366706 -0.287970 -0.272792\n",
       "Vg%      0.000838 -0.445749  1.000000  0.296139  0.224943 -0.212776\n",
       "Avg%     0.022147 -0.366706  0.296139  1.000000  0.357021 -0.181997\n",
       "Pr%      0.002599 -0.287970  0.224943  0.357021  1.000000 -0.174055\n",
       "Tr%      0.365215 -0.272792 -0.212776 -0.181997 -0.174055  1.000000"
      ]
     },
     "execution_count": 19,
     "metadata": {},
     "output_type": "execute_result"
    }
   ],
   "source": [
    "df_laplace[['NormImp','Ex%','Vg%', 'Avg%', 'Pr%', 'Tr%']].corr(method='kendall')"
   ]
  },
  {
   "cell_type": "code",
   "execution_count": 20,
   "metadata": {},
   "outputs": [
    {
     "data": {
      "text/plain": [
       "Text(0.5, 0, 'Vg%')"
      ]
     },
     "execution_count": 20,
     "metadata": {},
     "output_type": "execute_result"
    },
    {
     "data": {
      "image/png": "[encoded data removed]",
      "text/plain": [
       "<Figure size 432x288 with 1 Axes>"
      ]
     },
     "metadata": {
      "needs_background": "light"
     },
     "output_type": "display_data"
    }
   ],
   "source": [
    "plt.scatter(df_laplace['Ex%'], df_laplace['Vg%'])\n",
    "plt.ylabel(\"Ex%\")\n",
    "plt.xlabel(\"Vg%\")\n"
   ]
  },
  {
   "cell_type": "markdown",
   "metadata": {},
   "source": [
    "#### By the moment we can say that the correlation between the percentaje of \"Excellents\" and the \"Importance\" is highly negative. In this case we can observe the negative correlation as a positive one, since the most important restaurant is the 0."
   ]
  },
  {
   "cell_type": "code",
   "execution_count": 21,
   "metadata": {},
   "outputs": [],
   "source": [
    "colTest = ['Overall', 'NumReviews', 'Importance', 'Excellent','VeryGood', 'Average', 'Poor', 'Terrible', 'Ex%','Vg%', 'Avg%', 'Pr%','Tr%']"
   ]
  },
  {
   "cell_type": "code",
   "execution_count": 22,
   "metadata": {},
   "outputs": [],
   "source": [
    "import pandas as pd\n",
    "from fitter import get_common_distributions\n",
    "from fitter import Fitter\n",
    "import math as mt\n",
    "from scipy import stats\n",
    "\n",
    "## This function will split the outliers, giving us the extreme and no extreme data. The data between the upper and lower bound will be analysed in the \n",
    "## probability distribution function. Here we use the interquartilic range method\n",
    "\n",
    "def Outliers(DataframeCol):\n",
    "    '''\n",
    "    Input, column of dataframe. Output, outliers and normal data. \n",
    "    '''\n",
    "    test = DataframeCol.dropna()\n",
    "    q1 = test.quantile(0.25)\n",
    "    q3 = test.quantile(0.75)\n",
    "    iqr = q3 - q1\n",
    "    lowBound = q1 - 1.5 * iqr \n",
    "    upBound = q3 + 1.5 * iqr\n",
    "    noOutLiers = test[~((test > upBound) | (test < lowBound))]\n",
    "    Outliers = test[((test > upBound) | (test < lowBound))]\n",
    "    \n",
    "    return(noOutLiers, Outliers)\n",
    "\n",
    "\n",
    "\n",
    "## The variables of this function are the column of the dataframe to analyse, the common distrubutions for fitter 'cauchy', 'chi2', 'expon', \n",
    "## 'exponpow', 'gamma', 'lognorm','norm', 'powerlaw','rayleigh', 'uniform'\n",
    "def prob_dist(df_test):\n",
    "    '''\n",
    "    \n",
    "    '''\n",
    "    test = df_test\n",
    "    dist = get_common_distributions()\n",
    "    tester = test\n",
    "    \n",
    "## Here we iterate over all the distributions the dist varaible has. We will be testing the distribution untill one of them gets acceped by the \n",
    "## Kolmogrov-Smirnov goodness test. We use this specific test, given that other test are not precise for n > 5000. \n",
    "    for i in range(len(dist)):\n",
    "        \n",
    "        \n",
    "            f = Fitter(tester, timeout = 120, distributions= dist)\n",
    "            f.fit()\n",
    "            f.summary(plot=False)\n",
    "            distributionParameters = f.get_best()\n",
    "            distToTest = list(f.get_best())[0]\n",
    "            parameters = f.fitted_param[distToTest]\n",
    "            bestMatch = list(distributionParameters.keys())\n",
    "            ksTable = (1.36/(mt.sqrt(len(tester))))\n",
    "            ksTests = stats.kstest(np.array(tester), bestMatch[0], parameters)\n",
    "            ksCriteria = ksTests[1]\n",
    "            \n",
    "    \n",
    "            if ksCriteria >= ksTable:\n",
    "            # This statement checks if the Criteria valie is bigger than the value calculated in the Kolmogrov Smirnov Table for 0.05. \n",
    "            # If approved, we create the following dataframe.\n",
    "                dfTest = pd.DataFrame(index = ['Distribution', 'Test', 'P-Value'] )\n",
    "                column = [str(distToTest), float(ksTable), float(ksCriteria)]\n",
    "                dfTest[tester.name] = column\n",
    "                return(dfTest)\n",
    "                break\n",
    "                \n",
    "            else:\n",
    "            #Here the Goodness test was not accepted. So we have to delete this distribution and re-run the test. If we do not delet the distribution, we will get the \n",
    "            #same result for every i in the loop. So, at the end we would get nothing. \n",
    "                dist.remove(distToTest)\n"
   ]
  },
  {
   "cell_type": "code",
   "execution_count": 23,
   "metadata": {},
   "outputs": [
    {
     "name": "stdout",
     "output_type": "stream",
     "text": [
      "None\n",
      "None\n",
      "             Importance\n",
      "Distribution   exponpow\n",
      "Test           0.035245\n",
      "P-Value        0.551574\n",
      "None\n",
      "None\n",
      "None\n",
      "None\n",
      "None\n",
      "None\n",
      "None\n",
      "None\n",
      "None\n",
      "None\n"
     ]
    }
   ],
   "source": [
    "for i in colTest:\n",
    "    df_test = Outliers(df[i])\n",
    "    dist = prob_dist(df_test[0])\n",
    "    print(dist)"
   ]
  },
  {
   "cell_type": "markdown",
   "metadata": {},
   "source": [
    "Now we are almost certain that most of our data has no known distribution. "
   ]
  },
  {
   "cell_type": "code",
   "execution_count": 24,
   "metadata": {},
   "outputs": [
    {
     "data": {
      "text/html": [
       "<div>\n",
       "<style scoped>\n",
       "    .dataframe tbody tr th:only-of-type {\n",
       "        vertical-align: middle;\n",
       "    }\n",
       "\n",
       "    .dataframe tbody tr th {\n",
       "        vertical-align: top;\n",
       "    }\n",
       "\n",
       "    .dataframe thead th {\n",
       "        text-align: right;\n",
       "    }\n",
       "</style>\n",
       "<table border=\"1\" class=\"dataframe\">\n",
       "  <thead>\n",
       "    <tr style=\"text-align: right;\">\n",
       "      <th></th>\n",
       "      <th>Importance</th>\n",
       "      <th>NumReviews</th>\n",
       "      <th>Overall</th>\n",
       "      <th>Cap</th>\n",
       "      <th>Excellent</th>\n",
       "      <th>VeryGood</th>\n",
       "      <th>Average</th>\n",
       "      <th>Poor</th>\n",
       "      <th>Terrible</th>\n",
       "      <th>Mun</th>\n",
       "      <th>Ex%</th>\n",
       "      <th>Vg%</th>\n",
       "      <th>Avg%</th>\n",
       "      <th>Pr%</th>\n",
       "      <th>Tr%</th>\n",
       "      <th>row_sum</th>\n",
       "      <th>NormImp</th>\n",
       "    </tr>\n",
       "  </thead>\n",
       "  <tbody>\n",
       "    <tr>\n",
       "      <th>count</th>\n",
       "      <td>1489.000000</td>\n",
       "      <td>1489.000000</td>\n",
       "      <td>1489.000000</td>\n",
       "      <td>1489.000000</td>\n",
       "      <td>1489.000000</td>\n",
       "      <td>1489.000000</td>\n",
       "      <td>1489.000000</td>\n",
       "      <td>1489.000000</td>\n",
       "      <td>1489.000000</td>\n",
       "      <td>1489.000000</td>\n",
       "      <td>1489.000000</td>\n",
       "      <td>1489.000000</td>\n",
       "      <td>1489.000000</td>\n",
       "      <td>1489.000000</td>\n",
       "      <td>1489.000000</td>\n",
       "      <td>1489.000000</td>\n",
       "      <td>1489.000000</td>\n",
       "    </tr>\n",
       "    <tr>\n",
       "      <th>mean</th>\n",
       "      <td>1006.839490</td>\n",
       "      <td>304.750839</td>\n",
       "      <td>4.106111</td>\n",
       "      <td>80131.143049</td>\n",
       "      <td>20.220954</td>\n",
       "      <td>7.599731</td>\n",
       "      <td>2.897918</td>\n",
       "      <td>1.682337</td>\n",
       "      <td>3.636669</td>\n",
       "      <td>3.274009</td>\n",
       "      <td>0.579941</td>\n",
       "      <td>0.148513</td>\n",
       "      <td>0.053262</td>\n",
       "      <td>0.032153</td>\n",
       "      <td>0.186131</td>\n",
       "      <td>36.037609</td>\n",
       "      <td>0.367266</td>\n",
       "    </tr>\n",
       "    <tr>\n",
       "      <th>std</th>\n",
       "      <td>716.640742</td>\n",
       "      <td>682.644016</td>\n",
       "      <td>0.595251</td>\n",
       "      <td>7.038609</td>\n",
       "      <td>39.659677</td>\n",
       "      <td>18.393793</td>\n",
       "      <td>7.359366</td>\n",
       "      <td>4.335458</td>\n",
       "      <td>6.735021</td>\n",
       "      <td>2.582276</td>\n",
       "      <td>0.195892</td>\n",
       "      <td>0.132289</td>\n",
       "      <td>0.074427</td>\n",
       "      <td>0.056511</td>\n",
       "      <td>0.134000</td>\n",
       "      <td>69.440118</td>\n",
       "      <td>0.261930</td>\n",
       "    </tr>\n",
       "    <tr>\n",
       "      <th>min</th>\n",
       "      <td>2.000000</td>\n",
       "      <td>1.000000</td>\n",
       "      <td>1.000000</td>\n",
       "      <td>80121.000000</td>\n",
       "      <td>1.000000</td>\n",
       "      <td>0.000000</td>\n",
       "      <td>0.000000</td>\n",
       "      <td>0.000000</td>\n",
       "      <td>1.000000</td>\n",
       "      <td>1.000000</td>\n",
       "      <td>0.060976</td>\n",
       "      <td>0.000000</td>\n",
       "      <td>0.000000</td>\n",
       "      <td>0.000000</td>\n",
       "      <td>0.009259</td>\n",
       "      <td>3.000000</td>\n",
       "      <td>0.000000</td>\n",
       "    </tr>\n",
       "    <tr>\n",
       "      <th>20%</th>\n",
       "      <td>323.200000</td>\n",
       "      <td>17.000000</td>\n",
       "      <td>3.500000</td>\n",
       "      <td>80124.600000</td>\n",
       "      <td>2.000000</td>\n",
       "      <td>0.000000</td>\n",
       "      <td>0.000000</td>\n",
       "      <td>0.000000</td>\n",
       "      <td>1.000000</td>\n",
       "      <td>1.000000</td>\n",
       "      <td>0.388889</td>\n",
       "      <td>0.000000</td>\n",
       "      <td>0.000000</td>\n",
       "      <td>0.000000</td>\n",
       "      <td>0.066667</td>\n",
       "      <td>4.000000</td>\n",
       "      <td>0.117398</td>\n",
       "    </tr>\n",
       "    <tr>\n",
       "      <th>40%</th>\n",
       "      <td>688.200000</td>\n",
       "      <td>55.000000</td>\n",
       "      <td>4.000000</td>\n",
       "      <td>80129.000000</td>\n",
       "      <td>4.000000</td>\n",
       "      <td>1.000000</td>\n",
       "      <td>0.000000</td>\n",
       "      <td>0.000000</td>\n",
       "      <td>1.000000</td>\n",
       "      <td>2.000000</td>\n",
       "      <td>0.529912</td>\n",
       "      <td>0.099433</td>\n",
       "      <td>0.000000</td>\n",
       "      <td>0.000000</td>\n",
       "      <td>0.125000</td>\n",
       "      <td>8.000000</td>\n",
       "      <td>0.250804</td>\n",
       "    </tr>\n",
       "    <tr>\n",
       "      <th>50%</th>\n",
       "      <td>882.000000</td>\n",
       "      <td>91.000000</td>\n",
       "      <td>4.000000</td>\n",
       "      <td>80132.000000</td>\n",
       "      <td>6.000000</td>\n",
       "      <td>2.000000</td>\n",
       "      <td>0.000000</td>\n",
       "      <td>0.000000</td>\n",
       "      <td>1.000000</td>\n",
       "      <td>2.000000</td>\n",
       "      <td>0.611111</td>\n",
       "      <td>0.142857</td>\n",
       "      <td>0.000000</td>\n",
       "      <td>0.000000</td>\n",
       "      <td>0.166667</td>\n",
       "      <td>12.000000</td>\n",
       "      <td>0.321637</td>\n",
       "    </tr>\n",
       "    <tr>\n",
       "      <th>60%</th>\n",
       "      <td>1096.800000</td>\n",
       "      <td>147.800000</td>\n",
       "      <td>4.500000</td>\n",
       "      <td>80133.000000</td>\n",
       "      <td>10.000000</td>\n",
       "      <td>3.000000</td>\n",
       "      <td>1.000000</td>\n",
       "      <td>0.000000</td>\n",
       "      <td>2.000000</td>\n",
       "      <td>3.000000</td>\n",
       "      <td>0.666667</td>\n",
       "      <td>0.190356</td>\n",
       "      <td>0.045455</td>\n",
       "      <td>0.000000</td>\n",
       "      <td>0.200000</td>\n",
       "      <td>17.000000</td>\n",
       "      <td>0.400146</td>\n",
       "    </tr>\n",
       "    <tr>\n",
       "      <th>75%</th>\n",
       "      <td>1475.000000</td>\n",
       "      <td>308.000000</td>\n",
       "      <td>4.500000</td>\n",
       "      <td>80135.000000</td>\n",
       "      <td>20.000000</td>\n",
       "      <td>7.000000</td>\n",
       "      <td>2.000000</td>\n",
       "      <td>1.000000</td>\n",
       "      <td>3.000000</td>\n",
       "      <td>5.000000</td>\n",
       "      <td>0.750000</td>\n",
       "      <td>0.250000</td>\n",
       "      <td>0.092593</td>\n",
       "      <td>0.050847</td>\n",
       "      <td>0.250000</td>\n",
       "      <td>34.000000</td>\n",
       "      <td>0.538377</td>\n",
       "    </tr>\n",
       "    <tr>\n",
       "      <th>80%</th>\n",
       "      <td>1627.800000</td>\n",
       "      <td>420.200000</td>\n",
       "      <td>4.500000</td>\n",
       "      <td>80138.000000</td>\n",
       "      <td>26.000000</td>\n",
       "      <td>9.000000</td>\n",
       "      <td>3.000000</td>\n",
       "      <td>2.000000</td>\n",
       "      <td>4.000000</td>\n",
       "      <td>5.000000</td>\n",
       "      <td>0.750000</td>\n",
       "      <td>0.266667</td>\n",
       "      <td>0.111111</td>\n",
       "      <td>0.065299</td>\n",
       "      <td>0.327451</td>\n",
       "      <td>46.400000</td>\n",
       "      <td>0.594225</td>\n",
       "    </tr>\n",
       "    <tr>\n",
       "      <th>max</th>\n",
       "      <td>2738.000000</td>\n",
       "      <td>10228.000000</td>\n",
       "      <td>5.000000</td>\n",
       "      <td>80147.000000</td>\n",
       "      <td>437.000000</td>\n",
       "      <td>331.000000</td>\n",
       "      <td>115.000000</td>\n",
       "      <td>63.000000</td>\n",
       "      <td>81.000000</td>\n",
       "      <td>10.000000</td>\n",
       "      <td>0.985714</td>\n",
       "      <td>0.666667</td>\n",
       "      <td>0.518519</td>\n",
       "      <td>0.333333</td>\n",
       "      <td>0.847826</td>\n",
       "      <td>909.000000</td>\n",
       "      <td>1.000000</td>\n",
       "    </tr>\n",
       "  </tbody>\n",
       "</table>\n",
       "</div>"
      ],
      "text/plain": [
       "        Importance    NumReviews      Overall           Cap    Excellent  \\\n",
       "count  1489.000000   1489.000000  1489.000000   1489.000000  1489.000000   \n",
       "mean   1006.839490    304.750839     4.106111  80131.143049    20.220954   \n",
       "std     716.640742    682.644016     0.595251      7.038609    39.659677   \n",
       "min       2.000000      1.000000     1.000000  80121.000000     1.000000   \n",
       "20%     323.200000     17.000000     3.500000  80124.600000     2.000000   \n",
       "40%     688.200000     55.000000     4.000000  80129.000000     4.000000   \n",
       "50%     882.000000     91.000000     4.000000  80132.000000     6.000000   \n",
       "60%    1096.800000    147.800000     4.500000  80133.000000    10.000000   \n",
       "75%    1475.000000    308.000000     4.500000  80135.000000    20.000000   \n",
       "80%    1627.800000    420.200000     4.500000  80138.000000    26.000000   \n",
       "max    2738.000000  10228.000000     5.000000  80147.000000   437.000000   \n",
       "\n",
       "          VeryGood      Average         Poor     Terrible          Mun  \\\n",
       "count  1489.000000  1489.000000  1489.000000  1489.000000  1489.000000   \n",
       "mean      7.599731     2.897918     1.682337     3.636669     3.274009   \n",
       "std      18.393793     7.359366     4.335458     6.735021     2.582276   \n",
       "min       0.000000     0.000000     0.000000     1.000000     1.000000   \n",
       "20%       0.000000     0.000000     0.000000     1.000000     1.000000   \n",
       "40%       1.000000     0.000000     0.000000     1.000000     2.000000   \n",
       "50%       2.000000     0.000000     0.000000     1.000000     2.000000   \n",
       "60%       3.000000     1.000000     0.000000     2.000000     3.000000   \n",
       "75%       7.000000     2.000000     1.000000     3.000000     5.000000   \n",
       "80%       9.000000     3.000000     2.000000     4.000000     5.000000   \n",
       "max     331.000000   115.000000    63.000000    81.000000    10.000000   \n",
       "\n",
       "               Ex%          Vg%         Avg%          Pr%          Tr%  \\\n",
       "count  1489.000000  1489.000000  1489.000000  1489.000000  1489.000000   \n",
       "mean      0.579941     0.148513     0.053262     0.032153     0.186131   \n",
       "std       0.195892     0.132289     0.074427     0.056511     0.134000   \n",
       "min       0.060976     0.000000     0.000000     0.000000     0.009259   \n",
       "20%       0.388889     0.000000     0.000000     0.000000     0.066667   \n",
       "40%       0.529912     0.099433     0.000000     0.000000     0.125000   \n",
       "50%       0.611111     0.142857     0.000000     0.000000     0.166667   \n",
       "60%       0.666667     0.190356     0.045455     0.000000     0.200000   \n",
       "75%       0.750000     0.250000     0.092593     0.050847     0.250000   \n",
       "80%       0.750000     0.266667     0.111111     0.065299     0.327451   \n",
       "max       0.985714     0.666667     0.518519     0.333333     0.847826   \n",
       "\n",
       "           row_sum      NormImp  \n",
       "count  1489.000000  1489.000000  \n",
       "mean     36.037609     0.367266  \n",
       "std      69.440118     0.261930  \n",
       "min       3.000000     0.000000  \n",
       "20%       4.000000     0.117398  \n",
       "40%       8.000000     0.250804  \n",
       "50%      12.000000     0.321637  \n",
       "60%      17.000000     0.400146  \n",
       "75%      34.000000     0.538377  \n",
       "80%      46.400000     0.594225  \n",
       "max     909.000000     1.000000  "
      ]
     },
     "execution_count": 24,
     "metadata": {},
     "output_type": "execute_result"
    }
   ],
   "source": [
    "df.describe(percentiles=[.20, .40, .60, .75, .80])"
   ]
  },
  {
   "cell_type": "markdown",
   "metadata": {},
   "source": [
    "The Overall column is not a very intresting way of checking if a restaurant is good or bad. The 80% of the Naples restaurants have a 4.5 Overall or more. We know that italian cusine is good, but in absolutes terms. So in relative terms, some are better than others.\n",
    "\n",
    "The interesting thing we can get is that the 75% of the restaurants in Naples have 308 comments or less. Which it is a low number in comments due the average, however the Std is telling us we have a outliers which are having a big impact on the mean."
   ]
  },
  {
   "cell_type": "code",
   "execution_count": 25,
   "metadata": {},
   "outputs": [],
   "source": [
    "def No_Outliers(df, col):\n",
    "    q1 = df[col].quantile(0.25)\n",
    "    q3 = df[col].quantile(0.75)\n",
    "    iqr = q3 - q1\n",
    "    lowBound = q1 - 1.5 * iqr \n",
    "    upBound = q3 + 1.5 * iqr\n",
    "    outliers = df[~((df[col] > upBound) | (df[col] < lowBound))]\n",
    "    return(outliers)"
   ]
  },
  {
   "cell_type": "code",
   "execution_count": 26,
   "metadata": {},
   "outputs": [],
   "source": [
    "dfNoOutliers = No_Outliers(df,'NumReviews')"
   ]
  },
  {
   "cell_type": "code",
   "execution_count": 27,
   "metadata": {},
   "outputs": [
    {
     "data": {
      "text/html": [
       "<div>\n",
       "<style scoped>\n",
       "    .dataframe tbody tr th:only-of-type {\n",
       "        vertical-align: middle;\n",
       "    }\n",
       "\n",
       "    .dataframe tbody tr th {\n",
       "        vertical-align: top;\n",
       "    }\n",
       "\n",
       "    .dataframe thead th {\n",
       "        text-align: right;\n",
       "    }\n",
       "</style>\n",
       "<table border=\"1\" class=\"dataframe\">\n",
       "  <thead>\n",
       "    <tr style=\"text-align: right;\">\n",
       "      <th></th>\n",
       "      <th>Importance</th>\n",
       "      <th>NumReviews</th>\n",
       "      <th>Overall</th>\n",
       "      <th>Cap</th>\n",
       "      <th>Excellent</th>\n",
       "      <th>VeryGood</th>\n",
       "      <th>Average</th>\n",
       "      <th>Poor</th>\n",
       "      <th>Terrible</th>\n",
       "      <th>Mun</th>\n",
       "      <th>Ex%</th>\n",
       "      <th>Vg%</th>\n",
       "      <th>Avg%</th>\n",
       "      <th>Pr%</th>\n",
       "      <th>Tr%</th>\n",
       "      <th>row_sum</th>\n",
       "      <th>NormImp</th>\n",
       "    </tr>\n",
       "  </thead>\n",
       "  <tbody>\n",
       "    <tr>\n",
       "      <th>count</th>\n",
       "      <td>1327.000000</td>\n",
       "      <td>1327.000000</td>\n",
       "      <td>1327.000000</td>\n",
       "      <td>1327.000000</td>\n",
       "      <td>1327.000000</td>\n",
       "      <td>1327.000000</td>\n",
       "      <td>1327.000000</td>\n",
       "      <td>1327.000000</td>\n",
       "      <td>1327.000000</td>\n",
       "      <td>1327.000000</td>\n",
       "      <td>1327.000000</td>\n",
       "      <td>1327.000000</td>\n",
       "      <td>1327.000000</td>\n",
       "      <td>1327.000000</td>\n",
       "      <td>1327.000000</td>\n",
       "      <td>1327.000000</td>\n",
       "      <td>1327.000000</td>\n",
       "    </tr>\n",
       "    <tr>\n",
       "      <th>mean</th>\n",
       "      <td>1076.168048</td>\n",
       "      <td>144.100980</td>\n",
       "      <td>4.113791</td>\n",
       "      <td>80131.057272</td>\n",
       "      <td>13.051243</td>\n",
       "      <td>4.544838</td>\n",
       "      <td>1.822155</td>\n",
       "      <td>1.085908</td>\n",
       "      <td>2.898267</td>\n",
       "      <td>3.363979</td>\n",
       "      <td>0.582437</td>\n",
       "      <td>0.139624</td>\n",
       "      <td>0.049562</td>\n",
       "      <td>0.030153</td>\n",
       "      <td>0.198225</td>\n",
       "      <td>23.402411</td>\n",
       "      <td>0.392605</td>\n",
       "    </tr>\n",
       "    <tr>\n",
       "      <th>std</th>\n",
       "      <td>713.879239</td>\n",
       "      <td>172.602029</td>\n",
       "      <td>0.615791</td>\n",
       "      <td>7.125340</td>\n",
       "      <td>20.321372</td>\n",
       "      <td>9.992497</td>\n",
       "      <td>4.759687</td>\n",
       "      <td>3.087000</td>\n",
       "      <td>5.133017</td>\n",
       "      <td>2.623884</td>\n",
       "      <td>0.198389</td>\n",
       "      <td>0.133735</td>\n",
       "      <td>0.075340</td>\n",
       "      <td>0.057481</td>\n",
       "      <td>0.134653</td>\n",
       "      <td>38.016718</td>\n",
       "      <td>0.260921</td>\n",
       "    </tr>\n",
       "    <tr>\n",
       "      <th>min</th>\n",
       "      <td>2.000000</td>\n",
       "      <td>1.000000</td>\n",
       "      <td>1.000000</td>\n",
       "      <td>80121.000000</td>\n",
       "      <td>1.000000</td>\n",
       "      <td>0.000000</td>\n",
       "      <td>0.000000</td>\n",
       "      <td>0.000000</td>\n",
       "      <td>1.000000</td>\n",
       "      <td>1.000000</td>\n",
       "      <td>0.060976</td>\n",
       "      <td>0.000000</td>\n",
       "      <td>0.000000</td>\n",
       "      <td>0.000000</td>\n",
       "      <td>0.009259</td>\n",
       "      <td>3.000000</td>\n",
       "      <td>0.000000</td>\n",
       "    </tr>\n",
       "    <tr>\n",
       "      <th>25%</th>\n",
       "      <td>499.000000</td>\n",
       "      <td>20.000000</td>\n",
       "      <td>4.000000</td>\n",
       "      <td>80125.000000</td>\n",
       "      <td>2.000000</td>\n",
       "      <td>0.000000</td>\n",
       "      <td>0.000000</td>\n",
       "      <td>0.000000</td>\n",
       "      <td>1.000000</td>\n",
       "      <td>1.000000</td>\n",
       "      <td>0.428571</td>\n",
       "      <td>0.000000</td>\n",
       "      <td>0.000000</td>\n",
       "      <td>0.000000</td>\n",
       "      <td>0.090909</td>\n",
       "      <td>5.000000</td>\n",
       "      <td>0.181652</td>\n",
       "    </tr>\n",
       "    <tr>\n",
       "      <th>50%</th>\n",
       "      <td>985.000000</td>\n",
       "      <td>68.000000</td>\n",
       "      <td>4.000000</td>\n",
       "      <td>80131.000000</td>\n",
       "      <td>5.000000</td>\n",
       "      <td>1.000000</td>\n",
       "      <td>0.000000</td>\n",
       "      <td>0.000000</td>\n",
       "      <td>1.000000</td>\n",
       "      <td>2.000000</td>\n",
       "      <td>0.615385</td>\n",
       "      <td>0.125000</td>\n",
       "      <td>0.000000</td>\n",
       "      <td>0.000000</td>\n",
       "      <td>0.166667</td>\n",
       "      <td>9.000000</td>\n",
       "      <td>0.359284</td>\n",
       "    </tr>\n",
       "    <tr>\n",
       "      <th>75%</th>\n",
       "      <td>1542.000000</td>\n",
       "      <td>207.000000</td>\n",
       "      <td>4.500000</td>\n",
       "      <td>80135.000000</td>\n",
       "      <td>15.000000</td>\n",
       "      <td>5.000000</td>\n",
       "      <td>1.000000</td>\n",
       "      <td>1.000000</td>\n",
       "      <td>3.000000</td>\n",
       "      <td>5.000000</td>\n",
       "      <td>0.750000</td>\n",
       "      <td>0.241379</td>\n",
       "      <td>0.086957</td>\n",
       "      <td>0.043168</td>\n",
       "      <td>0.262726</td>\n",
       "      <td>25.000000</td>\n",
       "      <td>0.562865</td>\n",
       "    </tr>\n",
       "    <tr>\n",
       "      <th>max</th>\n",
       "      <td>2738.000000</td>\n",
       "      <td>729.000000</td>\n",
       "      <td>5.000000</td>\n",
       "      <td>80147.000000</td>\n",
       "      <td>210.000000</td>\n",
       "      <td>136.000000</td>\n",
       "      <td>79.000000</td>\n",
       "      <td>63.000000</td>\n",
       "      <td>81.000000</td>\n",
       "      <td>10.000000</td>\n",
       "      <td>0.985714</td>\n",
       "      <td>0.666667</td>\n",
       "      <td>0.518519</td>\n",
       "      <td>0.333333</td>\n",
       "      <td>0.847826</td>\n",
       "      <td>469.000000</td>\n",
       "      <td>1.000000</td>\n",
       "    </tr>\n",
       "  </tbody>\n",
       "</table>\n",
       "</div>"
      ],
      "text/plain": [
       "        Importance   NumReviews      Overall           Cap    Excellent  \\\n",
       "count  1327.000000  1327.000000  1327.000000   1327.000000  1327.000000   \n",
       "mean   1076.168048   144.100980     4.113791  80131.057272    13.051243   \n",
       "std     713.879239   172.602029     0.615791      7.125340    20.321372   \n",
       "min       2.000000     1.000000     1.000000  80121.000000     1.000000   \n",
       "25%     499.000000    20.000000     4.000000  80125.000000     2.000000   \n",
       "50%     985.000000    68.000000     4.000000  80131.000000     5.000000   \n",
       "75%    1542.000000   207.000000     4.500000  80135.000000    15.000000   \n",
       "max    2738.000000   729.000000     5.000000  80147.000000   210.000000   \n",
       "\n",
       "          VeryGood      Average         Poor     Terrible          Mun  \\\n",
       "count  1327.000000  1327.000000  1327.000000  1327.000000  1327.000000   \n",
       "mean      4.544838     1.822155     1.085908     2.898267     3.363979   \n",
       "std       9.992497     4.759687     3.087000     5.133017     2.623884   \n",
       "min       0.000000     0.000000     0.000000     1.000000     1.000000   \n",
       "25%       0.000000     0.000000     0.000000     1.000000     1.000000   \n",
       "50%       1.000000     0.000000     0.000000     1.000000     2.000000   \n",
       "75%       5.000000     1.000000     1.000000     3.000000     5.000000   \n",
       "max     136.000000    79.000000    63.000000    81.000000    10.000000   \n",
       "\n",
       "               Ex%          Vg%         Avg%          Pr%          Tr%  \\\n",
       "count  1327.000000  1327.000000  1327.000000  1327.000000  1327.000000   \n",
       "mean      0.582437     0.139624     0.049562     0.030153     0.198225   \n",
       "std       0.198389     0.133735     0.075340     0.057481     0.134653   \n",
       "min       0.060976     0.000000     0.000000     0.000000     0.009259   \n",
       "25%       0.428571     0.000000     0.000000     0.000000     0.090909   \n",
       "50%       0.615385     0.125000     0.000000     0.000000     0.166667   \n",
       "75%       0.750000     0.241379     0.086957     0.043168     0.262726   \n",
       "max       0.985714     0.666667     0.518519     0.333333     0.847826   \n",
       "\n",
       "           row_sum      NormImp  \n",
       "count  1327.000000  1327.000000  \n",
       "mean     23.402411     0.392605  \n",
       "std      38.016718     0.260921  \n",
       "min       3.000000     0.000000  \n",
       "25%       5.000000     0.181652  \n",
       "50%       9.000000     0.359284  \n",
       "75%      25.000000     0.562865  \n",
       "max     469.000000     1.000000  "
      ]
     },
     "execution_count": 27,
     "metadata": {},
     "output_type": "execute_result"
    }
   ],
   "source": [
    "dfNoOutliers.describe()"
   ]
  },
  {
   "cell_type": "code",
   "execution_count": 28,
   "metadata": {},
   "outputs": [
    {
     "data": {
      "image/png": "[encoded data removed]",
      "text/plain": [
       "<Figure size 576x432 with 2 Axes>"
      ]
     },
     "metadata": {
      "needs_background": "light"
     },
     "output_type": "display_data"
    }
   ],
   "source": [
    "fig, axes = plt.subplots(nrows=1, ncols=2, figsize=(8, 6)) # create 2x2 array of subplots\n",
    "\n",
    "df.boxplot(column='NumReviews', ax=axes[0])\n",
    "dfNoOutliers.boxplot(column='NumReviews', ax=axes[1])\n",
    "plt.title('No Outliers')\n",
    "plt.show()"
   ]
  },
  {
   "cell_type": "code",
   "execution_count": 29,
   "metadata": {},
   "outputs": [
    {
     "data": {
      "text/plain": [
       "7.449450077912809"
      ]
     },
     "execution_count": 29,
     "metadata": {},
     "output_type": "execute_result"
    }
   ],
   "source": [
    "df['NumReviews'].skew()"
   ]
  },
  {
   "cell_type": "markdown",
   "metadata": {},
   "source": [
    "Even with the outliers removed We see new outliers. This is related to the distribution we have on our data. Since the distribution has a strong positive Skewness 7.44, we will keep having outliers even if we remove them. Now we know that the 75% of the Restaurants have 207 comments or less removing the outliers. "
   ]
  },
  {
   "cell_type": "code",
   "execution_count": 30,
   "metadata": {},
   "outputs": [],
   "source": [
    "l= ['Importance', 'NumReviews', 'Overall', \n",
    "'Excellent','VeryGood', 'Average', \n",
    "'Poor', 'Terrible']"
   ]
  },
  {
   "cell_type": "code",
   "execution_count": 31,
   "metadata": {},
   "outputs": [],
   "source": [
    "dfNorm = (df[l]-df[l].min())/ (df[l].max() - df[l].min())\n",
    "dfNorm = pd.concat([dfNorm, df_laplace[['Ex%', 'Vg%', 'Avg%', 'Pr%', 'Tr%']]], axis=1)\n",
    "dfNorm = pd.concat([dfNorm, df['CompanyName']], axis=1)"
   ]
  },
  {
   "cell_type": "markdown",
   "metadata": {},
   "source": [
    "Since the data does not behave normally, we will use a Kendall-Tau correlation instead of a Pearson's. we will be focusing on ordinal variables and its direction. "
   ]
  },
  {
   "cell_type": "code",
   "execution_count": 32,
   "metadata": {},
   "outputs": [
    {
     "data": {
      "image/png": "[encoded data removed]",
      "text/plain": [
       "<Figure size 720x720 with 2 Axes>"
      ]
     },
     "metadata": {
      "needs_background": "light"
     },
     "output_type": "display_data"
    }
   ],
   "source": [
    "fig, ax = plt.subplots(figsize=(10,10)) \n",
    "sns.heatmap(dfNorm[['Importance', 'NumReviews', 'Overall', \n",
    "'Excellent','VeryGood', 'Average', 'Poor', 'Terrible']].corr(method='kendall'), annot=True, ax=ax)\n",
    "plt.show()"
   ]
  },
  {
   "cell_type": "code",
   "execution_count": 33,
   "metadata": {},
   "outputs": [
    {
     "data": {
      "image/png": "[encoded data removed]",
      "text/plain": [
       "<Figure size 720x720 with 2 Axes>"
      ]
     },
     "metadata": {
      "needs_background": "light"
     },
     "output_type": "display_data"
    }
   ],
   "source": [
    "fig, ax = plt.subplots(figsize=(10,10)) \n",
    "sns.heatmap(dfNorm[['Importance', 'Overall', 'NumReviews','Ex%','Vg%', 'Avg%', 'Pr%','Tr%']].corr(method='kendall'), annot=True, ax=ax)\n",
    "plt.show()"
   ]
  },
  {
   "cell_type": "code",
   "execution_count": 34,
   "metadata": {},
   "outputs": [
    {
     "data": {
      "text/plain": [
       "Text(0.5, 0, 'Importance')"
      ]
     },
     "execution_count": 34,
     "metadata": {},
     "output_type": "execute_result"
    },
    {
     "data": {
      "image/png": "[encoded data removed]",
      "text/plain": [
       "<Figure size 432x288 with 1 Axes>"
      ]
     },
     "metadata": {
      "needs_background": "light"
     },
     "output_type": "display_data"
    }
   ],
   "source": [
    "plt.scatter(df.Excellent, df.Importance)\n",
    "plt.ylabel(\"Excellent\")\n",
    "plt.xlabel(\"Importance\")"
   ]
  },
  {
   "cell_type": "markdown",
   "metadata": {},
   "source": [
    "1 - The first correlation we see is the strong negative 49% correlation between \"NumReviews\" and \"Importance\". The negative correlations indicates the higher the NumReviews, the better ranked. In consice terms, NumRevies explains 49% of the Importance.\n",
    "\n",
    "2- Althrough that Overall is not a really good indicator to meassure the Importance of a restarant -given the difference between absolute and relative comparissons-, it explains the 37% of the cases. Once again, this is a logical explaination, since the higher is the Overall the higher should be the Importance. Here we can do a hypothesis test, since the 50% of the restaurants have a 4 Overall or more:\n",
    "H0 both quantiles have the same distribution.\n",
    "H1 the data inside the second quantile of the dataset 'Overall' has a different distribution that the second one. \n",
    "\n",
    "3 -Excellent explains a 32% of the importance in absolute and a 29% in relative terms. As well, it has its intrinsic logic, since the more excellent there are, we are closer to a higher Overall.\n",
    "\n",
    "4- We can also see a correlation between 'Excellent','VeryGood', 'Average', 'Poor', 'Terrible'. We can see in absolutes terms that the closer the calification (Vg and Ex are closer than Ex and Tr), the higher the correlation; however, we see that terrible has a negative explains a 43% of Excellents, this is an interesting thing to study. We have one exception with Average-VeryGood and Average-Poor. This kind of situations have been broadly studied, it is called the \"\". This concept explains that in odd number of answers, which have a medium answer that tends to be neutral, there is a strong tendence to select the answer. Therefore, it would have been a better denomination if the califications were even and with no central tendency: Excelent, Very Good, Poor, Terrible. In this hypotetical case, we would have more interesing information that in the current one. \n",
    "\n",
    "5- Now, in absolute terms we dont have a strong correlation between Excellent and Overall, 10%. However, we do see a tendence which is very interesting. We can see that 'VeryGood', 'Average', 'Poor', 'Terrible' have a behavior in which every lower calification, has a negative correlation to the Overall, therefore, we cannot say that Excellent is a good predictor of the Overall, but the other califications do are a bad predictor. However, in relative terms we have a 54% of correlation between \"Overall\" and \"Ex%\", something we will study futher as we as the relationship between the correlation of \"Vg%\", \"Avg%\" and \"Tr%\" and \"Ex%\".\n",
    "\n",
    "6- This last point could be related to the hygenic factor. We will develop some tests to understand this phenomenom.\n",
    "\n",
    "7- There is a week correlation between Importance and overall, which we will check again in the higher quartile since we said that Overall is not a good meassurment. \n",
    "\n",
    "8- Something else we can see, is that there is a small correlation between the NumReviews and the absolute calification variables. So we can check that, apparently, the customers are more willing to leave a comment if they had a good or slightly bad experience.\n",
    "\n",
    "9- CHECK RELATIVE Now, in relative terms, the higher the Ex% the lower the other califications, but terrible. Therefore, we can say that more excelents, predicts . However, this is correlation and no causality. We dont have the real cause, but if we see on variable increasing, probably the other will increase too."
   ]
  },
  {
   "cell_type": "markdown",
   "metadata": {},
   "source": [
    "1- Continously, we will check the 25 quantile and above and check if the correlation of Importance and overall difears or not."
   ]
  },
  {
   "cell_type": "code",
   "execution_count": 35,
   "metadata": {},
   "outputs": [
    {
     "name": "stdout",
     "output_type": "stream",
     "text": [
      "       Importance    NumReviews\n",
      "count  373.000000    373.000000\n",
      "mean   200.576408    652.391421\n",
      "std    119.368489   1019.516419\n",
      "min      2.000000     13.000000\n",
      "25%     94.000000    179.000000\n",
      "50%    197.000000    398.000000\n",
      "75%    303.000000    790.000000\n",
      "max    409.000000  10228.000000\n",
      "Quantile 0.25:  409.0\n",
      "        Importance   NumReviews\n",
      "count  1117.000000  1117.000000\n",
      "mean   1275.539839   188.578335\n",
      "std     625.141694   470.077488\n",
      "min     409.000000     1.000000\n",
      "25%     757.000000    16.000000\n",
      "50%    1156.000000    50.000000\n",
      "75%    1667.000000   162.000000\n",
      "max    2738.000000  5515.000000\n",
      "Quantile 0.25:  409.0\n"
     ]
    }
   ],
   "source": [
    "print(df[df.Importance <= df.Importance.quantile(0.25)][['Importance', 'NumReviews']].describe())\n",
    "print('Quantile 0.25: ',df.Importance.quantile(0.25))\n",
    "print(df[df.Importance >= df.Importance.quantile(0.25)][['Importance', 'NumReviews']].describe())\n",
    "print('Quantile 0.25: ',df.Importance.quantile(0.25))"
   ]
  },
  {
   "cell_type": "code",
   "execution_count": 36,
   "metadata": {},
   "outputs": [
    {
     "name": "stdout",
     "output_type": "stream",
     "text": [
      "            Importance  NumReviews\n",
      "Importance    1.000000    0.006275\n",
      "NumReviews    0.006275    1.000000\n",
      "            Importance  NumReviews\n",
      "Importance    1.000000   -0.422269\n",
      "NumReviews   -0.422269    1.000000\n"
     ]
    }
   ],
   "source": [
    "print(df[df.Importance <= df.Importance.quantile(0.25)][['Importance', 'NumReviews']].corr(method='kendall'))\n",
    "print(df[df.Importance >= df.Importance.quantile(0.25)][['Importance', 'NumReviews']].corr(method='kendall'))"
   ]
  },
  {
   "cell_type": "code",
   "execution_count": 37,
   "metadata": {},
   "outputs": [
    {
     "data": {
      "text/plain": [
       "<seaborn.axisgrid.FacetGrid at 0x1f9d0893be0>"
      ]
     },
     "execution_count": 37,
     "metadata": {},
     "output_type": "execute_result"
    },
    {
     "data": {
      "image/png": "[encoded data removed]",
      "text/plain": [
       "<Figure size 360x360 with 1 Axes>"
      ]
     },
     "metadata": {
      "needs_background": "light"
     },
     "output_type": "display_data"
    },
    {
     "data": {
      "image/png": "[encoded data removed]",
      "text/plain": [
       "<Figure size 360x360 with 1 Axes>"
      ]
     },
     "metadata": {
      "needs_background": "light"
     },
     "output_type": "display_data"
    }
   ],
   "source": [
    "sns.lmplot(data=df[df.Importance <= df.Importance.quantile(0.25)][['Importance', 'NumReviews']], x='Importance', y='NumReviews')\n",
    "sns.lmplot(data=df[df.Importance >= df.Importance.quantile(0.25)][['Importance', 'NumReviews']], x='Importance', y='NumReviews')"
   ]
  },
  {
   "cell_type": "code",
   "execution_count": 38,
   "metadata": {},
   "outputs": [
    {
     "name": "stdout",
     "output_type": "stream",
     "text": [
      "Importance     119.368489\n",
      "NumReviews    1019.516419\n",
      "dtype: float64\n",
      "Importance    624.882856\n",
      "NumReviews    470.287800\n",
      "dtype: float64\n"
     ]
    }
   ],
   "source": [
    "print(df[df.Importance <= df.Importance.quantile(0.25)][['Importance', 'NumReviews']].std())\n",
    "print(df[df.Importance > df.Importance.quantile(0.25)][['Importance', 'NumReviews']].std())"
   ]
  },
  {
   "cell_type": "markdown",
   "metadata": {},
   "source": [
    "Insight 1: The correlation of the whole dataset is -0.49, the correlation of the first 25% is 0.006275 and for the lest 75% is 0.422269. We can say that the least 75% of the data, has a stronger wheight in the output. Therefore, the Overall in the least 75% restaurants is a better predictor that for the first 25%. This is related to the std of each dataset, if we check above the total std is lower in the second case than in the first case. Also the scatterplots show the same information.\n",
    "\n",
    "In business words: If the restaurant has a importance of 409 or less, we recommend to have KPI's related to the quantity of reviews.\n",
    "\n",
    "Now we have a new question, what should be an accourate KPI for a restaurant with an importance below than 409?"
   ]
  },
  {
   "cell_type": "code",
   "execution_count": 39,
   "metadata": {},
   "outputs": [
    {
     "data": {
      "text/plain": [
       "<AxesSubplot:>"
      ]
     },
     "execution_count": 39,
     "metadata": {},
     "output_type": "execute_result"
    },
    {
     "data": {
      "image/png": "[encoded data removed]",
      "text/plain": [
       "<Figure size 720x720 with 2 Axes>"
      ]
     },
     "metadata": {
      "needs_background": "light"
     },
     "output_type": "display_data"
    }
   ],
   "source": [
    "fig, ax = plt.subplots(figsize=(10,10)) \n",
    "sns.heatmap(dfNorm[dfNorm.Importance <= dfNorm.Importance.quantile(0.25)][['Importance', \n",
    "'Overall', 'NumReviews','Ex%','Vg%', 'Avg%', 'Pr%','Tr%']].corr(method='kendall'), annot=True, ax=ax)"
   ]
  },
  {
   "cell_type": "markdown",
   "metadata": {},
   "source": [
    "The answer to the question is the following: \n",
    "In the case of a restaurant with an Importance bigger thatn 409, the KPIs should be based on the 'Overall' and 'Ex%'\n",
    "\n",
    "Now we have defined KPIs in a really poor way. We have to quantify them and give real directions, however the strating point would be determined according the each restaurant"
   ]
  },
  {
   "cell_type": "code",
   "execution_count": 40,
   "metadata": {},
   "outputs": [
    {
     "data": {
      "text/plain": [
       "<AxesSubplot:>"
      ]
     },
     "execution_count": 40,
     "metadata": {},
     "output_type": "execute_result"
    },
    {
     "data": {
      "image/png": "[encoded data removed]",
      "text/plain": [
       "<Figure size 720x720 with 2 Axes>"
      ]
     },
     "metadata": {
      "needs_background": "light"
     },
     "output_type": "display_data"
    }
   ],
   "source": [
    "fig, ax = plt.subplots(figsize=(10,10)) \n",
    "sns.heatmap(dfNorm[dfNorm.Importance >= dfNorm.Importance.quantile(0.75)][['Importance', \n",
    "'Overall', 'NumReviews','Excellent','VeryGood', 'Average', 'Poor', 'Terrible']].corr(method='kendall'), annot=True, ax=ax)"
   ]
  },
  {
   "cell_type": "code",
   "execution_count": 41,
   "metadata": {},
   "outputs": [],
   "source": [
    "df_kpi1 = df[df.Importance >= df.Importance.quantile(0.25)][['CompanyName', 'Importance', 'NumReviews', 'Excellent','VeryGood', 'Average', 'Poor', 'Terrible']]\n",
    "df_kpi1 = pd.merge(left=df_kpi1, right= df_laplace[['CompanyName','Ex%','Vg%', 'Avg%', 'Pr%', 'Tr%']], how='inner', on='CompanyName')"
   ]
  },
  {
   "cell_type": "code",
   "execution_count": 42,
   "metadata": {},
   "outputs": [
    {
     "data": {
      "text/html": [
       "<div>\n",
       "<style scoped>\n",
       "    .dataframe tbody tr th:only-of-type {\n",
       "        vertical-align: middle;\n",
       "    }\n",
       "\n",
       "    .dataframe tbody tr th {\n",
       "        vertical-align: top;\n",
       "    }\n",
       "\n",
       "    .dataframe thead th {\n",
       "        text-align: right;\n",
       "    }\n",
       "</style>\n",
       "<table border=\"1\" class=\"dataframe\">\n",
       "  <thead>\n",
       "    <tr style=\"text-align: right;\">\n",
       "      <th></th>\n",
       "      <th>CompanyName</th>\n",
       "      <th>Importance</th>\n",
       "      <th>NumReviews</th>\n",
       "      <th>Excellent</th>\n",
       "      <th>VeryGood</th>\n",
       "      <th>Average</th>\n",
       "      <th>Poor</th>\n",
       "      <th>Terrible</th>\n",
       "      <th>Ex%</th>\n",
       "      <th>Vg%</th>\n",
       "      <th>Avg%</th>\n",
       "      <th>Pr%</th>\n",
       "      <th>Tr%</th>\n",
       "    </tr>\n",
       "  </thead>\n",
       "  <tbody>\n",
       "    <tr>\n",
       "      <th>0</th>\n",
       "      <td>Cariño Nikkei</td>\n",
       "      <td>527</td>\n",
       "      <td>139.0</td>\n",
       "      <td>6</td>\n",
       "      <td>0</td>\n",
       "      <td>0</td>\n",
       "      <td>0</td>\n",
       "      <td>1</td>\n",
       "      <td>0.857143</td>\n",
       "      <td>0.000000</td>\n",
       "      <td>0.000000</td>\n",
       "      <td>0.000000</td>\n",
       "      <td>0.142857</td>\n",
       "    </tr>\n",
       "    <tr>\n",
       "      <th>1</th>\n",
       "      <td>Fiorenzano 1897</td>\n",
       "      <td>2383</td>\n",
       "      <td>36.0</td>\n",
       "      <td>1</td>\n",
       "      <td>0</td>\n",
       "      <td>0</td>\n",
       "      <td>1</td>\n",
       "      <td>1</td>\n",
       "      <td>0.333333</td>\n",
       "      <td>0.000000</td>\n",
       "      <td>0.000000</td>\n",
       "      <td>0.333333</td>\n",
       "      <td>0.333333</td>\n",
       "    </tr>\n",
       "    <tr>\n",
       "      <th>2</th>\n",
       "      <td>Gusto&amp;Gusto</td>\n",
       "      <td>449</td>\n",
       "      <td>594.0</td>\n",
       "      <td>53</td>\n",
       "      <td>42</td>\n",
       "      <td>14</td>\n",
       "      <td>8</td>\n",
       "      <td>3</td>\n",
       "      <td>0.441667</td>\n",
       "      <td>0.350000</td>\n",
       "      <td>0.116667</td>\n",
       "      <td>0.066667</td>\n",
       "      <td>0.025000</td>\n",
       "    </tr>\n",
       "    <tr>\n",
       "      <th>3</th>\n",
       "      <td>Acquolina</td>\n",
       "      <td>447</td>\n",
       "      <td>495.0</td>\n",
       "      <td>17</td>\n",
       "      <td>11</td>\n",
       "      <td>8</td>\n",
       "      <td>1</td>\n",
       "      <td>5</td>\n",
       "      <td>0.404762</td>\n",
       "      <td>0.261905</td>\n",
       "      <td>0.190476</td>\n",
       "      <td>0.023810</td>\n",
       "      <td>0.119048</td>\n",
       "    </tr>\n",
       "    <tr>\n",
       "      <th>4</th>\n",
       "      <td>Antica Osteria da Tonino dal 1880</td>\n",
       "      <td>743</td>\n",
       "      <td>346.0</td>\n",
       "      <td>7</td>\n",
       "      <td>7</td>\n",
       "      <td>3</td>\n",
       "      <td>1</td>\n",
       "      <td>6</td>\n",
       "      <td>0.291667</td>\n",
       "      <td>0.291667</td>\n",
       "      <td>0.125000</td>\n",
       "      <td>0.041667</td>\n",
       "      <td>0.250000</td>\n",
       "    </tr>\n",
       "    <tr>\n",
       "      <th>...</th>\n",
       "      <td>...</td>\n",
       "      <td>...</td>\n",
       "      <td>...</td>\n",
       "      <td>...</td>\n",
       "      <td>...</td>\n",
       "      <td>...</td>\n",
       "      <td>...</td>\n",
       "      <td>...</td>\n",
       "      <td>...</td>\n",
       "      <td>...</td>\n",
       "      <td>...</td>\n",
       "      <td>...</td>\n",
       "      <td>...</td>\n",
       "    </tr>\n",
       "    <tr>\n",
       "      <th>1144</th>\n",
       "      <td>Trattoria e Pizzeria Da Nancy</td>\n",
       "      <td>2613</td>\n",
       "      <td>7.0</td>\n",
       "      <td>3</td>\n",
       "      <td>1</td>\n",
       "      <td>0</td>\n",
       "      <td>1</td>\n",
       "      <td>4</td>\n",
       "      <td>0.333333</td>\n",
       "      <td>0.111111</td>\n",
       "      <td>0.000000</td>\n",
       "      <td>0.111111</td>\n",
       "      <td>0.444444</td>\n",
       "    </tr>\n",
       "    <tr>\n",
       "      <th>1145</th>\n",
       "      <td>Maccheroni Food</td>\n",
       "      <td>1797</td>\n",
       "      <td>3.0</td>\n",
       "      <td>4</td>\n",
       "      <td>0</td>\n",
       "      <td>0</td>\n",
       "      <td>0</td>\n",
       "      <td>1</td>\n",
       "      <td>0.800000</td>\n",
       "      <td>0.000000</td>\n",
       "      <td>0.000000</td>\n",
       "      <td>0.000000</td>\n",
       "      <td>0.200000</td>\n",
       "    </tr>\n",
       "    <tr>\n",
       "      <th>1146</th>\n",
       "      <td>Pizzeria Pane Amore E Fantasia</td>\n",
       "      <td>1755</td>\n",
       "      <td>4.0</td>\n",
       "      <td>4</td>\n",
       "      <td>1</td>\n",
       "      <td>0</td>\n",
       "      <td>0</td>\n",
       "      <td>1</td>\n",
       "      <td>0.666667</td>\n",
       "      <td>0.166667</td>\n",
       "      <td>0.000000</td>\n",
       "      <td>0.000000</td>\n",
       "      <td>0.166667</td>\n",
       "    </tr>\n",
       "    <tr>\n",
       "      <th>1147</th>\n",
       "      <td>Pizzeria Don Raffaele</td>\n",
       "      <td>876</td>\n",
       "      <td>146.0</td>\n",
       "      <td>65</td>\n",
       "      <td>45</td>\n",
       "      <td>21</td>\n",
       "      <td>8</td>\n",
       "      <td>9</td>\n",
       "      <td>0.439189</td>\n",
       "      <td>0.304054</td>\n",
       "      <td>0.141892</td>\n",
       "      <td>0.054054</td>\n",
       "      <td>0.060811</td>\n",
       "    </tr>\n",
       "    <tr>\n",
       "      <th>1148</th>\n",
       "      <td>Il Frescale Ristopub Pizzeria</td>\n",
       "      <td>1573</td>\n",
       "      <td>11.0</td>\n",
       "      <td>6</td>\n",
       "      <td>5</td>\n",
       "      <td>0</td>\n",
       "      <td>0</td>\n",
       "      <td>2</td>\n",
       "      <td>0.461538</td>\n",
       "      <td>0.384615</td>\n",
       "      <td>0.000000</td>\n",
       "      <td>0.000000</td>\n",
       "      <td>0.153846</td>\n",
       "    </tr>\n",
       "  </tbody>\n",
       "</table>\n",
       "<p>1149 rows × 13 columns</p>\n",
       "</div>"
      ],
      "text/plain": [
       "                            CompanyName  Importance  NumReviews  Excellent  \\\n",
       "0                         Cariño Nikkei         527       139.0          6   \n",
       "1                       Fiorenzano 1897        2383        36.0          1   \n",
       "2                           Gusto&Gusto         449       594.0         53   \n",
       "3                             Acquolina         447       495.0         17   \n",
       "4     Antica Osteria da Tonino dal 1880         743       346.0          7   \n",
       "...                                 ...         ...         ...        ...   \n",
       "1144      Trattoria e Pizzeria Da Nancy        2613         7.0          3   \n",
       "1145                    Maccheroni Food        1797         3.0          4   \n",
       "1146     Pizzeria Pane Amore E Fantasia        1755         4.0          4   \n",
       "1147              Pizzeria Don Raffaele         876       146.0         65   \n",
       "1148      Il Frescale Ristopub Pizzeria        1573        11.0          6   \n",
       "\n",
       "      VeryGood  Average  Poor  Terrible       Ex%       Vg%      Avg%  \\\n",
       "0            0        0     0         1  0.857143  0.000000  0.000000   \n",
       "1            0        0     1         1  0.333333  0.000000  0.000000   \n",
       "2           42       14     8         3  0.441667  0.350000  0.116667   \n",
       "3           11        8     1         5  0.404762  0.261905  0.190476   \n",
       "4            7        3     1         6  0.291667  0.291667  0.125000   \n",
       "...        ...      ...   ...       ...       ...       ...       ...   \n",
       "1144         1        0     1         4  0.333333  0.111111  0.000000   \n",
       "1145         0        0     0         1  0.800000  0.000000  0.000000   \n",
       "1146         1        0     0         1  0.666667  0.166667  0.000000   \n",
       "1147        45       21     8         9  0.439189  0.304054  0.141892   \n",
       "1148         5        0     0         2  0.461538  0.384615  0.000000   \n",
       "\n",
       "           Pr%       Tr%  \n",
       "0     0.000000  0.142857  \n",
       "1     0.333333  0.333333  \n",
       "2     0.066667  0.025000  \n",
       "3     0.023810  0.119048  \n",
       "4     0.041667  0.250000  \n",
       "...        ...       ...  \n",
       "1144  0.111111  0.444444  \n",
       "1145  0.000000  0.200000  \n",
       "1146  0.000000  0.166667  \n",
       "1147  0.054054  0.060811  \n",
       "1148  0.000000  0.153846  \n",
       "\n",
       "[1149 rows x 13 columns]"
      ]
     },
     "execution_count": 42,
     "metadata": {},
     "output_type": "execute_result"
    }
   ],
   "source": [
    "df_kpi1"
   ]
  },
  {
   "cell_type": "code",
   "execution_count": 43,
   "metadata": {},
   "outputs": [],
   "source": [
    "df_kpi1['Kpi'] = (df_kpi1['Ex%'] * df_kpi1['NumReviews']) - (df_kpi1['Excellent'] * df_kpi1['Ex%']) + df_kpi1['Terrible']"
   ]
  },
  {
   "cell_type": "code",
   "execution_count": 44,
   "metadata": {},
   "outputs": [
    {
     "data": {
      "text/html": [
       "<div>\n",
       "<style scoped>\n",
       "    .dataframe tbody tr th:only-of-type {\n",
       "        vertical-align: middle;\n",
       "    }\n",
       "\n",
       "    .dataframe tbody tr th {\n",
       "        vertical-align: top;\n",
       "    }\n",
       "\n",
       "    .dataframe thead th {\n",
       "        text-align: right;\n",
       "    }\n",
       "</style>\n",
       "<table border=\"1\" class=\"dataframe\">\n",
       "  <thead>\n",
       "    <tr style=\"text-align: right;\">\n",
       "      <th></th>\n",
       "      <th>CompanyName</th>\n",
       "      <th>Importance</th>\n",
       "      <th>NumReviews</th>\n",
       "      <th>Excellent</th>\n",
       "      <th>VeryGood</th>\n",
       "      <th>Average</th>\n",
       "      <th>Poor</th>\n",
       "      <th>Terrible</th>\n",
       "      <th>Ex%</th>\n",
       "      <th>Vg%</th>\n",
       "      <th>Avg%</th>\n",
       "      <th>Pr%</th>\n",
       "      <th>Tr%</th>\n",
       "      <th>Kpi</th>\n",
       "    </tr>\n",
       "  </thead>\n",
       "  <tbody>\n",
       "    <tr>\n",
       "      <th>0</th>\n",
       "      <td>Cariño Nikkei</td>\n",
       "      <td>527</td>\n",
       "      <td>139.0</td>\n",
       "      <td>6</td>\n",
       "      <td>0</td>\n",
       "      <td>0</td>\n",
       "      <td>0</td>\n",
       "      <td>1</td>\n",
       "      <td>0.857143</td>\n",
       "      <td>0.000000</td>\n",
       "      <td>0.000000</td>\n",
       "      <td>0.000000</td>\n",
       "      <td>0.142857</td>\n",
       "      <td>115.000000</td>\n",
       "    </tr>\n",
       "    <tr>\n",
       "      <th>1</th>\n",
       "      <td>Fiorenzano 1897</td>\n",
       "      <td>2383</td>\n",
       "      <td>36.0</td>\n",
       "      <td>1</td>\n",
       "      <td>0</td>\n",
       "      <td>0</td>\n",
       "      <td>1</td>\n",
       "      <td>1</td>\n",
       "      <td>0.333333</td>\n",
       "      <td>0.000000</td>\n",
       "      <td>0.000000</td>\n",
       "      <td>0.333333</td>\n",
       "      <td>0.333333</td>\n",
       "      <td>12.666667</td>\n",
       "    </tr>\n",
       "    <tr>\n",
       "      <th>2</th>\n",
       "      <td>Gusto&amp;Gusto</td>\n",
       "      <td>449</td>\n",
       "      <td>594.0</td>\n",
       "      <td>53</td>\n",
       "      <td>42</td>\n",
       "      <td>14</td>\n",
       "      <td>8</td>\n",
       "      <td>3</td>\n",
       "      <td>0.441667</td>\n",
       "      <td>0.350000</td>\n",
       "      <td>0.116667</td>\n",
       "      <td>0.066667</td>\n",
       "      <td>0.025000</td>\n",
       "      <td>241.941667</td>\n",
       "    </tr>\n",
       "    <tr>\n",
       "      <th>3</th>\n",
       "      <td>Acquolina</td>\n",
       "      <td>447</td>\n",
       "      <td>495.0</td>\n",
       "      <td>17</td>\n",
       "      <td>11</td>\n",
       "      <td>8</td>\n",
       "      <td>1</td>\n",
       "      <td>5</td>\n",
       "      <td>0.404762</td>\n",
       "      <td>0.261905</td>\n",
       "      <td>0.190476</td>\n",
       "      <td>0.023810</td>\n",
       "      <td>0.119048</td>\n",
       "      <td>198.476190</td>\n",
       "    </tr>\n",
       "    <tr>\n",
       "      <th>4</th>\n",
       "      <td>Antica Osteria da Tonino dal 1880</td>\n",
       "      <td>743</td>\n",
       "      <td>346.0</td>\n",
       "      <td>7</td>\n",
       "      <td>7</td>\n",
       "      <td>3</td>\n",
       "      <td>1</td>\n",
       "      <td>6</td>\n",
       "      <td>0.291667</td>\n",
       "      <td>0.291667</td>\n",
       "      <td>0.125000</td>\n",
       "      <td>0.041667</td>\n",
       "      <td>0.250000</td>\n",
       "      <td>104.875000</td>\n",
       "    </tr>\n",
       "    <tr>\n",
       "      <th>...</th>\n",
       "      <td>...</td>\n",
       "      <td>...</td>\n",
       "      <td>...</td>\n",
       "      <td>...</td>\n",
       "      <td>...</td>\n",
       "      <td>...</td>\n",
       "      <td>...</td>\n",
       "      <td>...</td>\n",
       "      <td>...</td>\n",
       "      <td>...</td>\n",
       "      <td>...</td>\n",
       "      <td>...</td>\n",
       "      <td>...</td>\n",
       "      <td>...</td>\n",
       "    </tr>\n",
       "    <tr>\n",
       "      <th>1144</th>\n",
       "      <td>Trattoria e Pizzeria Da Nancy</td>\n",
       "      <td>2613</td>\n",
       "      <td>7.0</td>\n",
       "      <td>3</td>\n",
       "      <td>1</td>\n",
       "      <td>0</td>\n",
       "      <td>1</td>\n",
       "      <td>4</td>\n",
       "      <td>0.333333</td>\n",
       "      <td>0.111111</td>\n",
       "      <td>0.000000</td>\n",
       "      <td>0.111111</td>\n",
       "      <td>0.444444</td>\n",
       "      <td>5.333333</td>\n",
       "    </tr>\n",
       "    <tr>\n",
       "      <th>1145</th>\n",
       "      <td>Maccheroni Food</td>\n",
       "      <td>1797</td>\n",
       "      <td>3.0</td>\n",
       "      <td>4</td>\n",
       "      <td>0</td>\n",
       "      <td>0</td>\n",
       "      <td>0</td>\n",
       "      <td>1</td>\n",
       "      <td>0.800000</td>\n",
       "      <td>0.000000</td>\n",
       "      <td>0.000000</td>\n",
       "      <td>0.000000</td>\n",
       "      <td>0.200000</td>\n",
       "      <td>0.200000</td>\n",
       "    </tr>\n",
       "    <tr>\n",
       "      <th>1146</th>\n",
       "      <td>Pizzeria Pane Amore E Fantasia</td>\n",
       "      <td>1755</td>\n",
       "      <td>4.0</td>\n",
       "      <td>4</td>\n",
       "      <td>1</td>\n",
       "      <td>0</td>\n",
       "      <td>0</td>\n",
       "      <td>1</td>\n",
       "      <td>0.666667</td>\n",
       "      <td>0.166667</td>\n",
       "      <td>0.000000</td>\n",
       "      <td>0.000000</td>\n",
       "      <td>0.166667</td>\n",
       "      <td>1.000000</td>\n",
       "    </tr>\n",
       "    <tr>\n",
       "      <th>1147</th>\n",
       "      <td>Pizzeria Don Raffaele</td>\n",
       "      <td>876</td>\n",
       "      <td>146.0</td>\n",
       "      <td>65</td>\n",
       "      <td>45</td>\n",
       "      <td>21</td>\n",
       "      <td>8</td>\n",
       "      <td>9</td>\n",
       "      <td>0.439189</td>\n",
       "      <td>0.304054</td>\n",
       "      <td>0.141892</td>\n",
       "      <td>0.054054</td>\n",
       "      <td>0.060811</td>\n",
       "      <td>44.574324</td>\n",
       "    </tr>\n",
       "    <tr>\n",
       "      <th>1148</th>\n",
       "      <td>Il Frescale Ristopub Pizzeria</td>\n",
       "      <td>1573</td>\n",
       "      <td>11.0</td>\n",
       "      <td>6</td>\n",
       "      <td>5</td>\n",
       "      <td>0</td>\n",
       "      <td>0</td>\n",
       "      <td>2</td>\n",
       "      <td>0.461538</td>\n",
       "      <td>0.384615</td>\n",
       "      <td>0.000000</td>\n",
       "      <td>0.000000</td>\n",
       "      <td>0.153846</td>\n",
       "      <td>4.307692</td>\n",
       "    </tr>\n",
       "  </tbody>\n",
       "</table>\n",
       "<p>1149 rows × 14 columns</p>\n",
       "</div>"
      ],
      "text/plain": [
       "                            CompanyName  Importance  NumReviews  Excellent  \\\n",
       "0                         Cariño Nikkei         527       139.0          6   \n",
       "1                       Fiorenzano 1897        2383        36.0          1   \n",
       "2                           Gusto&Gusto         449       594.0         53   \n",
       "3                             Acquolina         447       495.0         17   \n",
       "4     Antica Osteria da Tonino dal 1880         743       346.0          7   \n",
       "...                                 ...         ...         ...        ...   \n",
       "1144      Trattoria e Pizzeria Da Nancy        2613         7.0          3   \n",
       "1145                    Maccheroni Food        1797         3.0          4   \n",
       "1146     Pizzeria Pane Amore E Fantasia        1755         4.0          4   \n",
       "1147              Pizzeria Don Raffaele         876       146.0         65   \n",
       "1148      Il Frescale Ristopub Pizzeria        1573        11.0          6   \n",
       "\n",
       "      VeryGood  Average  Poor  Terrible       Ex%       Vg%      Avg%  \\\n",
       "0            0        0     0         1  0.857143  0.000000  0.000000   \n",
       "1            0        0     1         1  0.333333  0.000000  0.000000   \n",
       "2           42       14     8         3  0.441667  0.350000  0.116667   \n",
       "3           11        8     1         5  0.404762  0.261905  0.190476   \n",
       "4            7        3     1         6  0.291667  0.291667  0.125000   \n",
       "...        ...      ...   ...       ...       ...       ...       ...   \n",
       "1144         1        0     1         4  0.333333  0.111111  0.000000   \n",
       "1145         0        0     0         1  0.800000  0.000000  0.000000   \n",
       "1146         1        0     0         1  0.666667  0.166667  0.000000   \n",
       "1147        45       21     8         9  0.439189  0.304054  0.141892   \n",
       "1148         5        0     0         2  0.461538  0.384615  0.000000   \n",
       "\n",
       "           Pr%       Tr%         Kpi  \n",
       "0     0.000000  0.142857  115.000000  \n",
       "1     0.333333  0.333333   12.666667  \n",
       "2     0.066667  0.025000  241.941667  \n",
       "3     0.023810  0.119048  198.476190  \n",
       "4     0.041667  0.250000  104.875000  \n",
       "...        ...       ...         ...  \n",
       "1144  0.111111  0.444444    5.333333  \n",
       "1145  0.000000  0.200000    0.200000  \n",
       "1146  0.000000  0.166667    1.000000  \n",
       "1147  0.054054  0.060811   44.574324  \n",
       "1148  0.000000  0.153846    4.307692  \n",
       "\n",
       "[1149 rows x 14 columns]"
      ]
     },
     "execution_count": 44,
     "metadata": {},
     "output_type": "execute_result"
    }
   ],
   "source": [
    "df_kpi1"
   ]
  },
  {
   "cell_type": "markdown",
   "metadata": {},
   "source": [
    "#### Now based on the last database df_kpi1, we observe the KPIs to achieve in a marketing campaing of a year. That formula lacks the division by years of existence in Trip advisor. At that point we could define the KPIs objective for the first group (importance belowthan 409) as following: \n",
    "#### Reach the x quantity of reviews with a wheight of Excellent (1) and Very Good (72%) in the next year. \n",
    "#### x = Kpi column / years on trip advisor WITH REVIEWS"
   ]
  },
  {
   "cell_type": "markdown",
   "metadata": {},
   "source": [
    "#### Continously we will work with the KPIs for the second group:"
   ]
  },
  {
   "cell_type": "code",
   "execution_count": 45,
   "metadata": {},
   "outputs": [],
   "source": [
    "df_kpi2 = df[df.Importance <= df.Importance.quantile(0.25)][['CompanyName', 'Overall', 'Importance', 'NumReviews', 'Excellent','VeryGood', 'Average', 'Poor', 'Terrible']]\n",
    "df_kpi2 = pd.merge(left=df_kpi2, right= df_laplace[['CompanyName','Ex%','Vg%', 'Avg%', 'Pr%', 'Tr%']], how='inner', on='CompanyName')"
   ]
  },
  {
   "cell_type": "code",
   "execution_count": 46,
   "metadata": {},
   "outputs": [],
   "source": [
    "df_kpi2['kpi'] = (df_kpi2['Overall'] - np.min(df_kpi2['Overall'])) / (np.max(df_kpi2['Overall']) - np.min(df_kpi2['Overall'])) / (1/df_kpi2['Excellent']) + df_kpi2['Terrible']"
   ]
  },
  {
   "cell_type": "markdown",
   "metadata": {},
   "source": [
    "#### KPI: \n",
    "#### achieve 0.5 more on the Overall Score if bellow 5, else mantain the 5, and the quantity of 'Excellents' fixed on the KPIs column on the next & months.  "
   ]
  },
  {
   "cell_type": "markdown",
   "metadata": {},
   "source": [
    "### Conlusion: \n",
    "#### We developed the thinking to create data driven KPIs, and fixed the objectives.\n",
    "#### Group 1\n",
    "#### Reach the x quantity of reviews with a wheight of Excellent (1) and Very Good (72%) in the next year. \n",
    "#### x = Kpi column / years on trip advisor WITH REVIEWS\n",
    "#### Group 2\n",
    "#### achieve 0.5 more on the Overall Score if bellow 5, else mantain the 5, and the quantity of 'Excellents' fixed on the KPIs column on the next & months. "
   ]
  },
  {
   "cell_type": "markdown",
   "metadata": {},
   "source": [
    "## 2- Overall as indicator to meassure the Importance of a restaurant.\n",
    "\n",
    "##### H0 both quantiles have the same distribution.\n",
    "#### H1 the data inside the second quantile of the dataset 'Overall' has a different distribution that the second one. "
   ]
  },
  {
   "cell_type": "code",
   "execution_count": 47,
   "metadata": {},
   "outputs": [
    {
     "name": "stdout",
     "output_type": "stream",
     "text": [
      "KstestResult(statistic=0.5765845070422535, pvalue=1.735301934094566e-148)\n",
      "KstestResult(statistic=0.2370744249670686, pvalue=3.298399633923283e-24)\n"
     ]
    }
   ],
   "source": [
    "from scipy.stats import ks_2samp\n",
    "\n",
    "x1 = df[df.Overall >= df.Overall.median()][['Overall','Importance']]\n",
    "x2 = df[df.Overall <= df.Overall.median()][['Overall','Importance']]\n",
    "\n",
    "print(ks_2samp(x1['Overall'], x2['Overall'], alternative='two-sided'))\n",
    "print(ks_2samp(x1['Importance'], x2['Importance'], alternative='two-sided'))"
   ]
  },
  {
   "cell_type": "code",
   "execution_count": 48,
   "metadata": {},
   "outputs": [
    {
     "name": "stdout",
     "output_type": "stream",
     "text": [
      "Variance \n",
      " Overall            0.127353\n",
      "Importance    320935.633436\n",
      "dtype: float64\n",
      "\n",
      "Mean \n",
      " Overall          3.690048\n",
      "Importance    1236.081535\n",
      "dtype: float64\n"
     ]
    }
   ],
   "source": [
    "print('Variance','\\n', df[df.Overall >= df.Overall.median()][['Overall','Importance']].var())\n",
    "print()\n",
    "print('Mean','\\n', df[df.Overall <= df.Overall.median()][['Overall','Importance']].mean())"
   ]
  },
  {
   "cell_type": "markdown",
   "metadata": {},
   "source": [
    "#### Since the P-Value is below 0.05, we can reject the null Hypotesis. Therefore, the distribution of Overall is significanly different in the two datasets.\n",
    "#### As we can see above, the quantiles does not have the similar Variances or Means. \n",
    "\n",
    "#### Let's see how this impacts on the correlations"
   ]
  },
  {
   "cell_type": "code",
   "execution_count": 49,
   "metadata": {},
   "outputs": [
    {
     "name": "stdout",
     "output_type": "stream",
     "text": [
      "             Overall  Importance\n",
      "Overall     1.000000   -0.082777\n",
      "Importance -0.082777    1.000000\n",
      "             Overall  Importance\n",
      "Overall     1.000000   -0.624241\n",
      "Importance -0.624241    1.000000\n"
     ]
    }
   ],
   "source": [
    "print(df[df.Overall >= df.Overall.median()][['Overall','Importance']].corr(method='kendall'))\n",
    "print(df[df.Overall < df.Overall.median()][['Overall','Importance']].corr(method='kendall'))"
   ]
  },
  {
   "cell_type": "code",
   "execution_count": 50,
   "metadata": {},
   "outputs": [
    {
     "data": {
      "text/plain": [
       "(array([  2.,   0.,   2.,   0.,   6.,   0.,  21.,   0.,  86., 236.]),\n",
       " array([1.  , 1.25, 1.5 , 1.75, 2.  , 2.25, 2.5 , 2.75, 3.  , 3.25, 3.5 ]),\n",
       " <BarContainer object of 10 artists>)"
      ]
     },
     "execution_count": 50,
     "metadata": {},
     "output_type": "execute_result"
    },
    {
     "data": {
      "image/png": "[encoded data removed]",
      "text/plain": [
       "<Figure size 432x288 with 1 Axes>"
      ]
     },
     "metadata": {
      "needs_background": "light"
     },
     "output_type": "display_data"
    }
   ],
   "source": [
    "plt.hist(df.Overall[df.Overall < df.Overall.median()])"
   ]
  },
  {
   "cell_type": "code",
   "execution_count": 51,
   "metadata": {},
   "outputs": [
    {
     "data": {
      "text/plain": [
       "<AxesSubplot:>"
      ]
     },
     "execution_count": 51,
     "metadata": {},
     "output_type": "execute_result"
    },
    {
     "data": {
      "image/png": "[encoded data removed]",
      "text/plain": [
       "<Figure size 720x720 with 2 Axes>"
      ]
     },
     "metadata": {
      "needs_background": "light"
     },
     "output_type": "display_data"
    }
   ],
   "source": [
    "fig, ax = plt.subplots(figsize=(10,10))\n",
    "sns.heatmap(df[df.Overall < df.Overall.median()]\n",
    "[['Importance', 'Overall', 'NumReviews','Excellent','VeryGood', 'Average', 'Poor', 'Terrible']].corr(method='kendall'), annot=True, ax=ax)"
   ]
  },
  {
   "cell_type": "code",
   "execution_count": 52,
   "metadata": {},
   "outputs": [
    {
     "data": {
      "text/plain": [
       "<AxesSubplot:>"
      ]
     },
     "execution_count": 52,
     "metadata": {},
     "output_type": "execute_result"
    },
    {
     "data": {
      "image/png": "[encoded data removed]",
      "text/plain": [
       "<Figure size 720x720 with 2 Axes>"
      ]
     },
     "metadata": {
      "needs_background": "light"
     },
     "output_type": "display_data"
    }
   ],
   "source": [
    "fig, ax = plt.subplots(figsize=(10,10))\n",
    "sns.heatmap(df[df.Overall >= df.Overall.median()]\n",
    "[['Importance', 'Overall', 'NumReviews','Excellent','VeryGood', 'Average', 'Poor', 'Terrible']].corr(method='kendall'), annot=True, ax=ax)"
   ]
  },
  {
   "cell_type": "markdown",
   "metadata": {},
   "source": [
    "#### As we can see above, the correlations are extreamly different. It has its logic, the amplitude range of the highest Overall half is 2, in the other case it is 8. Therefore, we get much more information related to the Overall in the lowest Overall half. \n",
    "\n",
    "#### The other Variables are remaining with very similar values. "
   ]
  },
  {
   "cell_type": "markdown",
   "metadata": {},
   "source": [
    "## Conclusion: \n",
    "#### The lower half of the median, can use the Overall ranking as an meassure of Importance; however, in the highest half, it will not give usefull information. "
   ]
  }
 ],
 "metadata": {
  "kernelspec": {
   "display_name": "Python 3.10.1 64-bit",
   "language": "python",
   "name": "python3"
  },
  "language_info": {
   "codemirror_mode": {
    "name": "ipython",
    "version": 3
   },
   "file_extension": ".py",
   "mimetype": "text/x-python",
   "name": "python",
   "nbconvert_exporter": "python",
   "pygments_lexer": "ipython3",
   "version": "3.10.1"
  },
  "orig_nbformat": 4,
  "vscode": {
   "interpreter": {
    "hash": "a9e38cb5b5da47b6f43919e20dbb5f626b5251fb74df12b96fed1c12ba644b29"
   }
  }
 },
 "nbformat": 4,
 "nbformat_minor": 2
}
